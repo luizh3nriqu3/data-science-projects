{
 "cells": [
  {
   "cell_type": "markdown",
   "metadata": {
    "id": "IJiFwDqtf6eE"
   },
   "source": [
    "# **Skip-Gram vs BERT — Qual Modelo Classifica Melhor Reclamações de Clientes?**\n",
    "\n",
    "*Desenvolvido como parte do MBA em Data Science & AI da FIAP, sob orientação do professor [Anderson Dourado](https://www.linkedin.com/in/anderson-dourado/).*<br><br>\n",
    "⚡ Utilize GPU"
   ]
  },
  {
   "cell_type": "markdown",
   "metadata": {
    "id": "KLRNBddzE_r8"
   },
   "source": [
    "## 1. **Introdução**\n",
    "\n"
   ]
  },
  {
   "cell_type": "markdown",
   "metadata": {
    "id": "2r3GpBteE9vn"
   },
   "source": [
    "Neste projeto, enfrento um desafio clássico do NLP aplicado ao mercado: a categorização automática de reclamações de clientes.\n",
    "\n",
    "Meu objetivo é encontrar o modelo que equilibre alto F1-Score e eficiência computacional. Para isso, testarei duas abordagens distintas:\n",
    "\n",
    "1. **Embeddings estáticos (Skip-Gram + modelos clássicos de ML)**\n",
    "2. **Transformers (BERT com fine-tuning)**\n",
    "\n",
    "A grande pergunta que guia este experimento é:\n",
    "Qual técnica se adapta melhor ao nosso problema e às particularidades dos dados disponíveis?"
   ]
  },
  {
   "cell_type": "markdown",
   "metadata": {
    "id": "6dAS6Yk_tS6M"
   },
   "source": [
    "## 2. **Importação e Instalação de Bibliotecas**"
   ]
  },
  {
   "cell_type": "code",
   "execution_count": 1,
   "metadata": {
    "colab": {
     "base_uri": "https://localhost:8080/"
    },
    "executionInfo": {
     "elapsed": 2070,
     "status": "ok",
     "timestamp": 1743459404197,
     "user": {
      "displayName": "Luiz Henrique Oliveira",
      "userId": "01652462041432361084"
     },
     "user_tz": 180
    },
    "id": "d2MDjgfEP06F",
    "outputId": "9d8b936c-8124-4bad-c44f-f678667ebe57"
   },
   "outputs": [
    {
     "name": "stdout",
     "output_type": "stream",
     "text": [
      "Cloning into 'data-science-projects'...\n",
      "remote: Enumerating objects: 9, done.\u001b[K\n",
      "remote: Counting objects: 100% (9/9), done.\u001b[K\n",
      "remote: Compressing objects: 100% (6/6), done.\u001b[K\n",
      "remote: Total 9 (delta 0), reused 6 (delta 0), pack-reused 0 (from 0)\u001b[K\n",
      "Receiving objects: 100% (9/9), 9.93 MiB | 17.63 MiB/s, done.\n"
     ]
    }
   ],
   "source": [
    "!git clone https://github.com/luizh3nriqu3/data-science-projects.git"
   ]
  },
  {
   "cell_type": "code",
   "execution_count": 2,
   "metadata": {
    "colab": {
     "base_uri": "https://localhost:8080/"
    },
    "collapsed": true,
    "executionInfo": {
     "elapsed": 121301,
     "status": "ok",
     "timestamp": 1743459533934,
     "user": {
      "displayName": "Luiz Henrique Oliveira",
      "userId": "01652462041432361084"
     },
     "user_tz": 180
    },
    "id": "hxavMXgUPApc",
    "outputId": "9314925a-cec4-4455-ab39-14cb30cb76a0"
   },
   "outputs": [
    {
     "name": "stdout",
     "output_type": "stream",
     "text": [
      "\u001b[2K   \u001b[90m━━━━━━━━━━━━━━━━━━━━━━━━━━━━━━━━━━━━━━━━\u001b[0m \u001b[32m363.4/363.4 MB\u001b[0m \u001b[31m1.5 MB/s\u001b[0m eta \u001b[36m0:00:00\u001b[0m\n",
      "\u001b[2K   \u001b[90m━━━━━━━━━━━━━━━━━━━━━━━━━━━━━━━━━━━━━━━━\u001b[0m \u001b[32m13.8/13.8 MB\u001b[0m \u001b[31m110.0 MB/s\u001b[0m eta \u001b[36m0:00:00\u001b[0m\n",
      "\u001b[2K   \u001b[90m━━━━━━━━━━━━━━━━━━━━━━━━━━━━━━━━━━━━━━━━\u001b[0m \u001b[32m24.6/24.6 MB\u001b[0m \u001b[31m82.2 MB/s\u001b[0m eta \u001b[36m0:00:00\u001b[0m\n",
      "\u001b[2K   \u001b[90m━━━━━━━━━━━━━━━━━━━━━━━━━━━━━━━━━━━━━━━━\u001b[0m \u001b[32m883.7/883.7 kB\u001b[0m \u001b[31m55.0 MB/s\u001b[0m eta \u001b[36m0:00:00\u001b[0m\n",
      "\u001b[2K   \u001b[90m━━━━━━━━━━━━━━━━━━━━━━━━━━━━━━━━━━━━━━━━\u001b[0m \u001b[32m664.8/664.8 MB\u001b[0m \u001b[31m3.0 MB/s\u001b[0m eta \u001b[36m0:00:00\u001b[0m\n",
      "\u001b[2K   \u001b[90m━━━━━━━━━━━━━━━━━━━━━━━━━━━━━━━━━━━━━━━━\u001b[0m \u001b[32m211.5/211.5 MB\u001b[0m \u001b[31m5.5 MB/s\u001b[0m eta \u001b[36m0:00:00\u001b[0m\n",
      "\u001b[2K   \u001b[90m━━━━━━━━━━━━━━━━━━━━━━━━━━━━━━━━━━━━━━━━\u001b[0m \u001b[32m56.3/56.3 MB\u001b[0m \u001b[31m19.8 MB/s\u001b[0m eta \u001b[36m0:00:00\u001b[0m\n",
      "\u001b[2K   \u001b[90m━━━━━━━━━━━━━━━━━━━━━━━━━━━━━━━━━━━━━━━━\u001b[0m \u001b[32m127.9/127.9 MB\u001b[0m \u001b[31m7.4 MB/s\u001b[0m eta \u001b[36m0:00:00\u001b[0m\n",
      "\u001b[2K   \u001b[90m━━━━━━━━━━━━━━━━━━━━━━━━━━━━━━━━━━━━━━━━\u001b[0m \u001b[32m207.5/207.5 MB\u001b[0m \u001b[31m6.6 MB/s\u001b[0m eta \u001b[36m0:00:00\u001b[0m\n",
      "\u001b[2K   \u001b[90m━━━━━━━━━━━━━━━━━━━━━━━━━━━━━━━━━━━━━━━━\u001b[0m \u001b[32m21.1/21.1 MB\u001b[0m \u001b[31m92.7 MB/s\u001b[0m eta \u001b[36m0:00:00\u001b[0m\n",
      "\u001b[2K     \u001b[90m━━━━━━━━━━━━━━━━━━━━━━━━━━━━━━━━━━━━━━━━\u001b[0m \u001b[32m61.0/61.0 kB\u001b[0m \u001b[31m4.6 MB/s\u001b[0m eta \u001b[36m0:00:00\u001b[0m\n",
      "\u001b[2K     \u001b[90m━━━━━━━━━━━━━━━━━━━━━━━━━━━━━━━━━━━━━━━━\u001b[0m \u001b[32m60.6/60.6 kB\u001b[0m \u001b[31m5.2 MB/s\u001b[0m eta \u001b[36m0:00:00\u001b[0m\n",
      "\u001b[2K   \u001b[90m━━━━━━━━━━━━━━━━━━━━━━━━━━━━━━━━━━━━━━━━\u001b[0m \u001b[32m26.7/26.7 MB\u001b[0m \u001b[31m67.5 MB/s\u001b[0m eta \u001b[36m0:00:00\u001b[0m\n",
      "\u001b[2K   \u001b[90m━━━━━━━━━━━━━━━━━━━━━━━━━━━━━━━━━━━━━━━━\u001b[0m \u001b[32m18.3/18.3 MB\u001b[0m \u001b[31m62.9 MB/s\u001b[0m eta \u001b[36m0:00:00\u001b[0m\n",
      "\u001b[2K   \u001b[90m━━━━━━━━━━━━━━━━━━━━━━━━━━━━━━━━━━━━━━━━\u001b[0m \u001b[32m38.6/38.6 MB\u001b[0m \u001b[31m13.5 MB/s\u001b[0m eta \u001b[36m0:00:00\u001b[0m\n",
      "\u001b[2K     \u001b[90m━━━━━━━━━━━━━━━━━━━━━━━━━━━━━━━━━━━━━━━━\u001b[0m \u001b[32m13.0/13.0 MB\u001b[0m \u001b[31m105.0 MB/s\u001b[0m eta \u001b[36m0:00:00\u001b[0m\n",
      "\u001b[?25h\u001b[38;5;2m✔ Download and installation successful\u001b[0m\n",
      "You can now load the package via spacy.load('pt_core_news_sm')\n",
      "\u001b[38;5;3m⚠ Restart to reload dependencies\u001b[0m\n",
      "If you are in a Jupyter or Colab notebook, you may need to restart Python in\n",
      "order to load all the package's dependencies. You can do this by selecting the\n",
      "'Restart kernel' or 'Restart runtime' option.\n"
     ]
    }
   ],
   "source": [
    "!pip install torch --quiet\n",
    "!pip install transformers sentence-transformers gensim xgboost scikit-learn spacy load_dotenv --quiet\n",
    "!python -m spacy download pt_core_news_sm --quiet"
   ]
  },
  {
   "cell_type": "markdown",
   "metadata": {
    "id": "Gs40XVDYNAQm"
   },
   "source": [
    "⚠️ É necessário reiniciar o ambiente antes de rodar a importação das bibliotecas!"
   ]
  },
  {
   "cell_type": "code",
   "execution_count": 1,
   "metadata": {
    "colab": {
     "base_uri": "https://localhost:8080/"
    },
    "collapsed": true,
    "executionInfo": {
     "elapsed": 38817,
     "status": "ok",
     "timestamp": 1743459584204,
     "user": {
      "displayName": "Luiz Henrique Oliveira",
      "userId": "01652462041432361084"
     },
     "user_tz": 180
    },
    "id": "HVqsmY2-4aSD",
    "outputId": "4daad7c9-3e8f-41d5-d01b-55bb4466436d"
   },
   "outputs": [
    {
     "name": "stderr",
     "output_type": "stream",
     "text": [
      "[nltk_data] Downloading package punkt to /root/nltk_data...\n",
      "[nltk_data]   Unzipping tokenizers/punkt.zip.\n",
      "[nltk_data] Downloading package stopwords to /root/nltk_data...\n",
      "[nltk_data]   Unzipping corpora/stopwords.zip.\n",
      "[nltk_data] Downloading package punkt_tab to /root/nltk_data...\n",
      "[nltk_data]   Unzipping tokenizers/punkt_tab.zip.\n"
     ]
    },
    {
     "data": {
      "text/plain": [
       "True"
      ]
     },
     "execution_count": 1,
     "metadata": {},
     "output_type": "execute_result"
    }
   ],
   "source": [
    "# Data Science\n",
    "import numpy as np\n",
    "import pandas as pd\n",
    "import re\n",
    "import string\n",
    "import os\n",
    "import zipfile\n",
    "from pathlib import Path\n",
    "\n",
    "# NLP\n",
    "import nltk\n",
    "import spacy\n",
    "from gensim.models import KeyedVectors\n",
    "from nltk.tokenize import word_tokenize\n",
    "\n",
    "# Machine Learning\n",
    "from sklearn.ensemble import RandomForestClassifier\n",
    "from sklearn.svm import SVC\n",
    "from sklearn.linear_model import LogisticRegression\n",
    "from sklearn.metrics import (classification_report, f1_score)\n",
    "from sklearn.model_selection import train_test_split\n",
    "import xgboost as xgb\n",
    "from transformers import BertTokenizer, BertForSequenceClassification, get_linear_schedule_with_warmup, BertModel\n",
    "from torch.optim import AdamW\n",
    "from torch.utils.data import DataLoader, TensorDataset\n",
    "from tqdm import tqdm\n",
    "import torch\n",
    "from sklearn import preprocessing\n",
    "\n",
    "# Viz\n",
    "import matplotlib.pyplot as plt\n",
    "import seaborn as sns\n",
    "from wordcloud import WordCloud\n",
    "\n",
    "# NLTK\n",
    "nltk.download('punkt')\n",
    "nltk.download('stopwords')\n",
    "nltk.download('punkt_tab')"
   ]
  },
  {
   "cell_type": "code",
   "execution_count": 2,
   "metadata": {
    "colab": {
     "base_uri": "https://localhost:8080/"
    },
    "collapsed": true,
    "executionInfo": {
     "elapsed": 124779,
     "status": "ok",
     "timestamp": 1743459908684,
     "user": {
      "displayName": "Luiz Henrique Oliveira",
      "userId": "01652462041432361084"
     },
     "user_tz": 180
    },
    "id": "btbGkIUJxmXw",
    "outputId": "47ed706f-11d8-46af-f50b-a6ce575778b0"
   },
   "outputs": [
    {
     "name": "stdout",
     "output_type": "stream",
     "text": [
      "--2025-03-31 22:23:05--  https://dados-ml-pln.s3-sa-east-1.amazonaws.com/skip_s300.zip\n",
      "Resolving dados-ml-pln.s3-sa-east-1.amazonaws.com (dados-ml-pln.s3-sa-east-1.amazonaws.com)... 3.5.234.164, 52.95.163.82, 16.12.0.2, ...\n",
      "Connecting to dados-ml-pln.s3-sa-east-1.amazonaws.com (dados-ml-pln.s3-sa-east-1.amazonaws.com)|3.5.234.164|:443... connected.\n",
      "HTTP request sent, awaiting response... 200 OK\n",
      "Length: 958619745 (914M) [application/zip]\n",
      "Saving to: ‘data-science-projects/nlp/model/skip_s300.zip’\n",
      "\n",
      "data-science-projec 100%[===================>] 914.21M  9.64MB/s    in 97s     \n",
      "\n",
      "2025-03-31 22:24:43 (9.47 MB/s) - ‘data-science-projects/nlp/model/skip_s300.zip’ saved [958619745/958619745]\n",
      "\n",
      "Arquivos extraídos.\n"
     ]
    }
   ],
   "source": [
    "# Cria diretório model, faz o download e unzip do skip-gram com 300 dimensões\n",
    "\n",
    "model_dir = Path(\"data-science-projects/nlp/model\")\n",
    "model_dir.mkdir(parents=True, exist_ok=True)\n",
    "zip_file = \"skip_s300.zip\"\n",
    "file_path = model_dir / zip_file\n",
    "\n",
    "\n",
    "if not file_path.exists():\n",
    "    !wget 'https://dados-ml-pln.s3-sa-east-1.amazonaws.com/skip_s300.zip' -O {file_path}\n",
    "else:\n",
    "    print(f\"Arquivo {zip_file} já existe.\")\n",
    "\n",
    "if file_path.exists():\n",
    "    with zipfile.ZipFile(file_path, 'r') as zip_ref:\n",
    "        zip_ref.extractall(model_dir)\n",
    "    print(f\"Arquivos extraídos.\")\n",
    "else:\n",
    "    print(f\"Erro: {zip_file} não encontrado.\")"
   ]
  },
  {
   "cell_type": "markdown",
   "metadata": {
    "id": "8XUqamdstrZC"
   },
   "source": [
    "## 3. **Importação da Base**"
   ]
  },
  {
   "cell_type": "code",
   "execution_count": 3,
   "metadata": {
    "executionInfo": {
     "elapsed": 908,
     "status": "ok",
     "timestamp": 1743459969752,
     "user": {
      "displayName": "Luiz Henrique Oliveira",
      "userId": "01652462041432361084"
     },
     "user_tz": 180
    },
    "id": "zfLLnYnGt8uS"
   },
   "outputs": [],
   "source": [
    "df = pd.read_csv('/content/data-science-projects/nlp/data/tickets_reclamacoes_classificados.csv', delimiter=';')"
   ]
  },
  {
   "cell_type": "code",
   "execution_count": 4,
   "metadata": {
    "colab": {
     "base_uri": "https://localhost:8080/"
    },
    "collapsed": true,
    "executionInfo": {
     "elapsed": 87,
     "status": "ok",
     "timestamp": 1743459971611,
     "user": {
      "displayName": "Luiz Henrique Oliveira",
      "userId": "01652462041432361084"
     },
     "user_tz": 180
    },
    "id": "hzO_RHKVRlx6",
    "outputId": "f0e2f69b-264b-4417-989e-cec667a6cb6d"
   },
   "outputs": [
    {
     "name": "stdout",
     "output_type": "stream",
     "text": [
      "<class 'pandas.core.frame.DataFrame'>\n",
      "RangeIndex: 21072 entries, 0 to 21071\n",
      "Data columns (total 4 columns):\n",
      " #   Column                Non-Null Count  Dtype \n",
      "---  ------                --------------  ----- \n",
      " 0   id_reclamacao         21072 non-null  int64 \n",
      " 1   data_abertura         21072 non-null  object\n",
      " 2   categoria             21072 non-null  object\n",
      " 3   descricao_reclamacao  21072 non-null  object\n",
      "dtypes: int64(1), object(3)\n",
      "memory usage: 658.6+ KB\n"
     ]
    }
   ],
   "source": [
    "df.info()"
   ]
  },
  {
   "cell_type": "markdown",
   "metadata": {
    "id": "wzMDfMzGQewo"
   },
   "source": [
    "## 4. **EDA**"
   ]
  },
  {
   "cell_type": "code",
   "execution_count": 25,
   "metadata": {
    "colab": {
     "base_uri": "https://localhost:8080/",
     "height": 272
    },
    "executionInfo": {
     "elapsed": 54,
     "status": "ok",
     "timestamp": 1743462415836,
     "user": {
      "displayName": "Luiz Henrique Oliveira",
      "userId": "01652462041432361084"
     },
     "user_tz": 180
    },
    "id": "B5c19jTHP-Dt",
    "outputId": "d40569f6-7471-4506-adf8-bae526cb07da"
   },
   "outputs": [
    {
     "data": {
      "text/html": [
       "<div>\n",
       "<style scoped>\n",
       "    .dataframe tbody tr th:only-of-type {\n",
       "        vertical-align: middle;\n",
       "    }\n",
       "\n",
       "    .dataframe tbody tr th {\n",
       "        vertical-align: top;\n",
       "    }\n",
       "\n",
       "    .dataframe thead th {\n",
       "        text-align: right;\n",
       "    }\n",
       "</style>\n",
       "<table border=\"1\" class=\"dataframe\">\n",
       "  <thead>\n",
       "    <tr style=\"text-align: right;\">\n",
       "      <th></th>\n",
       "      <th>count</th>\n",
       "    </tr>\n",
       "    <tr>\n",
       "      <th>categoria</th>\n",
       "      <th></th>\n",
       "    </tr>\n",
       "  </thead>\n",
       "  <tbody>\n",
       "    <tr>\n",
       "      <th>Serviços de conta bancária</th>\n",
       "      <td>5161</td>\n",
       "    </tr>\n",
       "    <tr>\n",
       "      <th>Cartão de crédito / Cartão pré-pago</th>\n",
       "      <td>5006</td>\n",
       "    </tr>\n",
       "    <tr>\n",
       "      <th>Roubo / Relatório de disputa</th>\n",
       "      <td>4822</td>\n",
       "    </tr>\n",
       "    <tr>\n",
       "      <th>Hipotecas / Empréstimos</th>\n",
       "      <td>3850</td>\n",
       "    </tr>\n",
       "    <tr>\n",
       "      <th>Outros</th>\n",
       "      <td>2233</td>\n",
       "    </tr>\n",
       "  </tbody>\n",
       "</table>\n",
       "</div><br><label><b>dtype:</b> int64</label>"
      ],
      "text/plain": [
       "categoria\n",
       "Serviços de conta bancária             5161\n",
       "Cartão de crédito / Cartão pré-pago    5006\n",
       "Roubo / Relatório de disputa           4822\n",
       "Hipotecas / Empréstimos                3850\n",
       "Outros                                 2233\n",
       "Name: count, dtype: int64"
      ]
     },
     "execution_count": 25,
     "metadata": {},
     "output_type": "execute_result"
    }
   ],
   "source": [
    "freq_cat = df['categoria'].value_counts()\n",
    "freq_cat"
   ]
  },
  {
   "cell_type": "code",
   "execution_count": 26,
   "metadata": {
    "colab": {
     "base_uri": "https://localhost:8080/",
     "height": 246
    },
    "executionInfo": {
     "elapsed": 208,
     "status": "ok",
     "timestamp": 1743462416035,
     "user": {
      "displayName": "Luiz Henrique Oliveira",
      "userId": "01652462041432361084"
     },
     "user_tz": 180
    },
    "id": "xXeGttxMQosm",
    "outputId": "df7ca648-dee9-45f8-d6ee-dd340cebfbfb"
   },
   "outputs": [
    {
     "data": {
      "image/png": "[encoded data removed]",
      "text/plain": [
       "<Figure size 1500x500 with 1 Axes>"
      ]
     },
     "metadata": {},
     "output_type": "display_data"
    }
   ],
   "source": [
    "fig, ax = plt.subplots(figsize=(15, 5))\n",
    "sns.barplot(x=freq_cat.index, y=freq_cat.values, ax=ax)\n",
    "plt.show()"
   ]
  },
  {
   "cell_type": "code",
   "execution_count": 27,
   "metadata": {
    "colab": {
     "base_uri": "https://localhost:8080/"
    },
    "executionInfo": {
     "elapsed": 138,
     "status": "ok",
     "timestamp": 1743462416174,
     "user": {
      "displayName": "Luiz Henrique Oliveira",
      "userId": "01652462041432361084"
     },
     "user_tz": 180
    },
    "id": "kedBmrosbW2V",
    "outputId": "69cb3414-affc-4b44-f1e0-ccc9cd732198"
   },
   "outputs": [
    {
     "name": "stdout",
     "output_type": "stream",
     "text": [
      "                  count         mean          std  min    25%     50%  \\\n",
      "num_palavras    21072.0   247.782413   265.400668  2.0   95.0   177.0   \n",
      "num_caracteres  21072.0  1465.305429  1585.890511  9.0  560.0  1041.0   \n",
      "\n",
      "                    75%      max  moda  \n",
      "num_palavras     312.25   5536.0    93  \n",
      "num_caracteres  1843.25  33897.0   423  \n"
     ]
    }
   ],
   "source": [
    "estatisticas = df[['num_palavras', 'num_caracteres']].describe().transpose()\n",
    "estatisticas['moda'] = [df['num_palavras'].mode()[0], df['num_caracteres'].mode()[0]]\n",
    "print(estatisticas)"
   ]
  },
  {
   "cell_type": "code",
   "execution_count": 28,
   "metadata": {
    "colab": {
     "base_uri": "https://localhost:8080/",
     "height": 224
    },
    "executionInfo": {
     "elapsed": 856,
     "status": "ok",
     "timestamp": 1743462417036,
     "user": {
      "displayName": "Luiz Henrique Oliveira",
      "userId": "01652462041432361084"
     },
     "user_tz": 180
    },
    "id": "16Korc4eU2vP",
    "outputId": "c953300e-4f3b-42ac-a7b1-c6d22b5b4ca0"
   },
   "outputs": [
    {
     "data": {
      "image/png": "[encoded data removed]",
      "text/plain": [
       "<Figure size 1500x500 with 2 Axes>"
      ]
     },
     "metadata": {},
     "output_type": "display_data"
    }
   ],
   "source": [
    "df['num_palavras'] = df['descricao_reclamacao'].apply(lambda x: len(str(x).split()))\n",
    "df['num_caracteres'] = df['descricao_reclamacao'].apply(lambda x: len(str(x)))\n",
    "\n",
    "plt.figure(figsize=(15, 5))\n",
    "plt.subplot(1, 2, 1)\n",
    "sns.histplot(df['num_palavras'], bins=20, kde=True)\n",
    "plt.title('Número de palavras por reclamação')\n",
    "plt.xlabel('Número de palavras')\n",
    "plt.ylabel('Frequência')\n",
    "\n",
    "plt.subplot(1, 2, 2)\n",
    "sns.boxplot(x=df['num_palavras'])\n",
    "plt.title('Boxplot do comprimento das reclamações')\n",
    "plt.xlabel('Número de palavras')\n",
    "plt.tight_layout()\n",
    "plt.show()"
   ]
  },
  {
   "cell_type": "code",
   "execution_count": 29,
   "metadata": {
    "colab": {
     "base_uri": "https://localhost:8080/",
     "height": 285
    },
    "executionInfo": {
     "elapsed": 18921,
     "status": "ok",
     "timestamp": 1743462435959,
     "user": {
      "displayName": "Luiz Henrique Oliveira",
      "userId": "01652462041432361084"
     },
     "user_tz": 180
    },
    "id": "haLo0mcdVMb7",
    "outputId": "af529b59-6688-4d45-ce2e-82f9e897dcec"
   },
   "outputs": [
    {
     "data": {
      "image/png": "[encoded data removed]",
      "text/plain": [
       "<Figure size 640x480 with 1 Axes>"
      ]
     },
     "metadata": {},
     "output_type": "display_data"
    }
   ],
   "source": [
    "texto = ' '.join(df['descricao_reclamacao'].astype(str))\n",
    "wordcloud = WordCloud(width=800, height=400).generate(texto)\n",
    "plt.imshow(wordcloud)\n",
    "plt.axis('off')\n",
    "plt.show()"
   ]
  },
  {
   "cell_type": "code",
   "execution_count": 30,
   "metadata": {
    "colab": {
     "base_uri": "https://localhost:8080/",
     "height": 174
    },
    "executionInfo": {
     "elapsed": 15,
     "status": "ok",
     "timestamp": 1743462435976,
     "user": {
      "displayName": "Luiz Henrique Oliveira",
      "userId": "01652462041432361084"
     },
     "user_tz": 180
    },
    "id": "-sUQJ_iwRZgA",
    "outputId": "97eef3b2-b76d-498a-9659-bbf5f0afca35"
   },
   "outputs": [
    {
     "data": {
      "application/vnd.google.colaboratory.intrinsic+json": {
       "type": "string"
      },
      "text/plain": [
       "'Meu neto me dê cheque por {$ 1600,00} Eu depositei -o na minha conta Chase depois que o fundo limpo meu banco de perseguição fechou minha conta nunca me pagou meu dinheiro, eles disseram que precisavam para espreitar com o cheque do meu neto estava claro que o dinheiro estava fazendo pela minha perseguição Banco se recusa a me pagar meu dinheiro, meu neto chamou Chase 2 vezes, eles disseram que eu deveria ligar para ele para verificar o proprietário do cheque, ele está fora do país a maior parte da data de horário acontecer xx/xx/2018 Número de cheque xxxx Número de reclamação é xxxx com correr atrás'"
      ]
     },
     "execution_count": 30,
     "metadata": {},
     "output_type": "execute_result"
    }
   ],
   "source": [
    "df[df['categoria'] == 'Serviços de conta bancária']['descricao_reclamacao'].iloc[0]"
   ]
  },
  {
   "cell_type": "code",
   "execution_count": 31,
   "metadata": {
    "colab": {
     "base_uri": "https://localhost:8080/",
     "height": 105
    },
    "executionInfo": {
     "elapsed": 35,
     "status": "ok",
     "timestamp": 1743462436023,
     "user": {
      "displayName": "Luiz Henrique Oliveira",
      "userId": "01652462041432361084"
     },
     "user_tz": 180
    },
    "id": "hSeXlCj-SOFU",
    "outputId": "ae9d69ec-6692-4de0-a640-75b367d5343f"
   },
   "outputs": [
    {
     "data": {
      "application/vnd.google.colaboratory.intrinsic+json": {
       "type": "string"
      },
      "text/plain": [
       "'Atualizei meu cartão xxxx xxxx em xx/xx/2018 e fui informado pelo agente que fez a atualização que minha data de aniversário não mudaria. Ele virou o agente me dando as informações erradas para atualizar a conta. Xxxx alterou minha data de aniversário de xx/xx/xxxx para xx/xx/xxxx sem meu consentimento! XXXX tem a gravação do agente que me enganou.'"
      ]
     },
     "execution_count": 31,
     "metadata": {},
     "output_type": "execute_result"
    }
   ],
   "source": [
    "df[df['categoria'] == 'Cartão de crédito / Cartão pré-pago']['descricao_reclamacao'].iloc[0]"
   ]
  },
  {
   "cell_type": "code",
   "execution_count": 32,
   "metadata": {
    "colab": {
     "base_uri": "https://localhost:8080/",
     "height": 261
    },
    "executionInfo": {
     "elapsed": 31,
     "status": "ok",
     "timestamp": 1743462436057,
     "user": {
      "displayName": "Luiz Henrique Oliveira",
      "userId": "01652462041432361084"
     },
     "user_tz": 180
    },
    "id": "9I8Ocv8sSThT",
    "outputId": "1d904233-ed00-4e43-a259-d4cf344a3bad"
   },
   "outputs": [
    {
     "data": {
      "application/vnd.google.colaboratory.intrinsic+json": {
       "type": "string"
      },
      "text/plain": [
       "'Em xxxx xx/xx/2019, fiz um pagamento {$ 300.00} a um varejista on -line usando o Chase Quick Pay com xxxx no site da Chase. Percebi que este era um site de fraudes após nenhuma confirmação, produto ou resposta a quaisquer perguntas sobre o pedido e contatou o Chase para obter mais informações sobre a transação para tentar obter um reembolso pelo banco de varejistas.\\r\\n\\r\\nEntrei em contato com o Chase por meio de uma mensagem segura em xx/xx/2019 explicando o que aconteceu e perguntei: \"Existe uma maneira de reverter essa transação, ou você tem um contato no XXXX que pode me fornecer mais informações sobre o destinatário? \\'\\' Que xxxx , minha mensagem foi revisada e recebi uma resposta reafirmando meu e -mail original e me informando que \"a transferência foi concluída. No entanto, como você mencionou que o site é uma farsa enquanto podemos lidar com a maioria das perguntas por e -mail, algumas exigem a experiência de outra equipe. Para ajudá -lo melhor em relação ao reembolso, solicitamos que você ligue para nossa equipe de suporte técnico on -line do consumidor. \\'\\' Liguei para o número listado no e -mail e expliquei minha situação para ser transferida para o departamento de reivindicações. Fui instruído a ligar para xxxx e perguntar sobre a transação porque o Chase não tinha nenhuma informação fora do que eu forneci ao iniciar a transferência. Eu senti que esse agente estava tentando me encerrar a ligação o mais rápido possível e tive que interromper o script de fechamento dela para pedir um número de contato no XXXX e não tive a oportunidade de obter nenhuma informação sobre quais perguntas certas Seria perguntar ao xxxx ou que palavras e frases eu deveria usar para obter as informações que estava procurando.\\r\\n\\r\\nLiguei para o XXXX, que é o sistema automatizado inicialmente me instruiu a ligar para o meu banco porque usei o aplicativo Banks para iniciar a transação. Liguei para o XXXX novamente para navegar em seus menus e conversar com um agente de atendimento ao cliente. Eles me disseram que todas as informações sobre a transação faria no sistema da Chase porque usei o aplicativo Banks para executar a transação. Ela ficou na fila comigo até que eu entendesse tudo o que eu deveria perguntar e tive uma melhor compreensão da situação. Terminei a chamada e liguei para Chase novamente.\\r\\n\\r\\nQuando liguei para Chase pela segunda vez, o agente tentou procurar as informações sobre o banco receptor, mas não conseguiu encontrar nenhuma informação adicional. Ela então me perguntou por que eu precisava dessas informações e expliquei minha situação novamente. Mais uma vez, fui transferido para o departamento de reivindicações, que me disse que precisava entrar em contato com o XXXX para obter as informações que estava procurando. Depois que eu disse a ela que eu já havia contatado, ela finalmente admitiu que não havia nada que ela pudesse fazer devido à natureza da transação e que esses tipos de transações não estão garantidos. Ela disse que Chase não tinha informações sobre o destinatário além do endereço de e -mail que eu inseri e que as informações bancárias dos destinatários não foram mantidas no sistema. Em ambos os telefonemas, eles perguntaram se eu iniciou essa transação e o usou para se absolver de toda a responsabilidade em relação a esse assunto.\\r\\n\\r\\nDurante todo esse processo, parecia que Chase não era transparente sobre suas políticas sobre esses tipos de transações, nem foram úteis para me ajudar a obter informações sobre a situação. Essas transações são anunciadas como uma maneira \"rápida, segura e fácil de enviar dinheiro\", mas parece ser uma maneira perigosa de fazer negócios. Sinto -me enganado pela publicidade de Chase e ainda mais vitimada pela maneira como fui tratado pelos membros em sua equipe de atendimento ao cliente.'"
      ]
     },
     "execution_count": 32,
     "metadata": {},
     "output_type": "execute_result"
    }
   ],
   "source": [
    "df[df['categoria'] == 'Roubo / Relatório de disputa']['descricao_reclamacao'].iloc[0]"
   ]
  },
  {
   "cell_type": "code",
   "execution_count": 33,
   "metadata": {
    "colab": {
     "base_uri": "https://localhost:8080/",
     "height": 140
    },
    "executionInfo": {
     "elapsed": 92,
     "status": "ok",
     "timestamp": 1743462436222,
     "user": {
      "displayName": "Luiz Henrique Oliveira",
      "userId": "01652462041432361084"
     },
     "user_tz": 180
    },
    "id": "wG27tkXFSb2v",
    "outputId": "0c580784-8ad2-4d58-abb5-01196a924faf"
   },
   "outputs": [
    {
     "data": {
      "application/vnd.google.colaboratory.intrinsic+json": {
       "type": "string"
      },
      "text/plain": [
       "'Bom dia, meu nome é xxxx xxxx e agradeço se você puder me ajudar a acabar com os serviços de membro do cartão bancário.\\r\\nEm 2018, escrevi para Chase solicitar verificação da dívida e o que eles me enviaram uma declaração que não é aceitável. Estou pedindo ao banco que valide a dívida. Em vez disso, recebi e -mails todos os meses, tentando coletar uma dívida.\\r\\nTenho o direito de conhecer essas informações como consumidor.\\r\\n\\r\\nConta do Chase # xxxx xxxx xxxx xxxx Obrigado antecipadamente pela sua ajuda.'"
      ]
     },
     "execution_count": 33,
     "metadata": {},
     "output_type": "execute_result"
    }
   ],
   "source": [
    "df[df['categoria'] == 'Hipotecas / Empréstimos']['descricao_reclamacao'].iloc[0]"
   ]
  },
  {
   "cell_type": "code",
   "execution_count": 34,
   "metadata": {
    "colab": {
     "base_uri": "https://localhost:8080/",
     "height": 261
    },
    "executionInfo": {
     "elapsed": 48,
     "status": "ok",
     "timestamp": 1743462436272,
     "user": {
      "displayName": "Luiz Henrique Oliveira",
      "userId": "01652462041432361084"
     },
     "user_tz": 180
    },
    "id": "xtlNPfSPSj6K",
    "outputId": "d9007680-d5b3-4e23-f4bd-47522522a8c0"
   },
   "outputs": [
    {
     "data": {
      "application/vnd.google.colaboratory.intrinsic+json": {
       "type": "string"
      },
      "text/plain": [
       "'Durante os meses de verão, experimento uma renda de declínio devido ao meu emprego. Portanto, solicito uma extensão de pagamento de um mês com minha empresa de empréstimos para automóveis, Chase. Nos últimos quase quatro anos, meu pedido de extensão de pagamento é concedido. Nunca fui delinqüente com meu pagamento de empréstimo automático. No entanto, em XX/XX/2019, meu pedido de uma extensão de pagamento de um mês foi negada este ano. Expliquei minha situação ao representante e ao supervisor sem sucesso. Após uma longa discussão e espera, fui informado o motivo do declínio, pois não é \"contratual\". Esse motivo de negação me confundi e, portanto, enviei um e -mail ao Escritório da XXXX XXXX Diretor Executivo, Comunicação, JPMorgan Chase & Co. O representante entrou em contato comigo e afirmou que Chase seguirá. Cerca de semana depois, um representante do escritório xxxx xxxx xxxx chamado. O representante compartilhou seu papel foi ajudar a resolver o assunto. O representante via teleconferência contatou o departamento entregando meu pedido. Após, revisando Minhas informações minha solicitação ainda foi negado com base em \"mudanças de política\". Solicitei uma explicação e o representante declarou que uma carta será enviada por correio com explicação. Recebi o XXXX LETTERS O motivo da negação não foi \"mudanças de política\". Gostaria que a ajuda do CFPB para explorar a negação da minha solicitação de extensão de pagamento, especialmente porque fui claro motivo de negação.'"
      ]
     },
     "execution_count": 34,
     "metadata": {},
     "output_type": "execute_result"
    }
   ],
   "source": [
    "df[df['categoria'] == 'Outros']['descricao_reclamacao'].iloc[0]"
   ]
  },
  {
   "cell_type": "markdown",
   "metadata": {
    "id": "I7qT3VIQSr_V"
   },
   "source": [
    "Ao analisar nossos dados, destacam-se os seguintes aspectos:\n",
    "\n",
    "**Balanceamento das Classes:**\n",
    "As categorias apresentam um desbalanceamento moderado, sendo a classe mais frequente 2 vezes mais comum que a menos frequente. Ainda assim, o cenário não exige técnicas avançadas de balanceamento.\n",
    "\n",
    "**Dados Sigilos:**\n",
    "As descrições das reclamações contêm caracteres como 'x', utilizados para preservar a confidencialidade de informações sensíveis. Isso pode exigir um tratamento de pré-processamento específico.\n",
    "\n",
    "**Formatação das Descrições:**\n",
    "Algumas descrições incluem caracteres especiais, como \\r e \\n, que podem ser resquícios de formatação de texto. A remoção ou tratamento desses caracteres será necessária para evitar ruídos no processamento.\n",
    "\n",
    "**Classe 'Outros':**\n",
    "Essa classe provavelmente agrupa reclamações variadas, o que pode dificultar sua classificação precisa.\n",
    "\n",
    "**Estatísticas de Tamanho:**<br>\n",
    "Média: 247 palavras (1.465 caracteres)<br>\n",
    "Mediana: 177 palavras (1.041 caracteres)\n"
   ]
  },
  {
   "cell_type": "markdown",
   "metadata": {
    "id": "5w0zmCCytYrz"
   },
   "source": [
    "## 5. **Pré-processamento e Normalização**"
   ]
  },
  {
   "cell_type": "markdown",
   "metadata": {
    "id": "7KFCYqFGIhXG"
   },
   "source": [
    "### **Funcões de Pré-processamento, Normalização e Configurações**"
   ]
  },
  {
   "cell_type": "code",
   "execution_count": 35,
   "metadata": {
    "executionInfo": {
     "elapsed": 13,
     "status": "ok",
     "timestamp": 1743462436305,
     "user": {
      "displayName": "Luiz Henrique Oliveira",
      "userId": "01652462041432361084"
     },
     "user_tz": 180
    },
    "id": "lsWKTkEXszfA"
   },
   "outputs": [],
   "source": [
    "# Define seed e tamanho de teste de conjunto de teste\n",
    "seed = 42\n",
    "test_size = 0.25"
   ]
  },
  {
   "cell_type": "code",
   "execution_count": 36,
   "metadata": {
    "colab": {
     "base_uri": "https://localhost:8080/"
    },
    "executionInfo": {
     "elapsed": 48,
     "status": "ok",
     "timestamp": 1743462436350,
     "user": {
      "displayName": "Luiz Henrique Oliveira",
      "userId": "01652462041432361084"
     },
     "user_tz": 180
    },
    "id": "69lR1PjFCAB8",
    "outputId": "8504deee-7898-4fc9-f54c-7657db7dbd99"
   },
   "outputs": [
    {
     "name": "stdout",
     "output_type": "stream",
     "text": [
      "Rodando em: cuda\n"
     ]
    }
   ],
   "source": [
    "# Define se o código vai rodar na GPU (se disponível) ou na CPU\n",
    "device = torch.device(\"cuda\" if torch.cuda.is_available() else \"cpu\")\n",
    "print(f\"Rodando em: {device}\")\n",
    "\n",
    "# Carrega a lista de stopwords em português\n",
    "stopwords_list = nltk.corpus.stopwords.words('portuguese')\n",
    "\n",
    "# Lista de nomes de instituições encontradas na EDA\n",
    "institution_names = ['chase', 'bank', 'jp', 'gm', 'financial', 'jpmcb']\n",
    "\n",
    "# Cria uma cópia do dataframe com apenas as colunas relevantes\n",
    "df_model = df[['categoria', 'descricao_reclamacao']].copy()\n",
    "\n",
    "# Divide o dataset em treino e teste\n",
    "df_train, df_test = train_test_split(df_model, test_size=test_size, random_state=seed)\n",
    "\n",
    "# Converte as categorias em valores numéricos\n",
    "label_encoder = preprocessing.LabelEncoder()\n",
    "df_train['categoria'] = label_encoder.fit_transform(df_train['categoria'])\n",
    "df_test['categoria'] = label_encoder.transform(df_test['categoria'])"
   ]
  },
  {
   "cell_type": "code",
   "execution_count": 37,
   "metadata": {
    "executionInfo": {
     "elapsed": 53,
     "status": "ok",
     "timestamp": 1743462442090,
     "user": {
      "displayName": "Luiz Henrique Oliveira",
      "userId": "01652462041432361084"
     },
     "user_tz": 180
    },
    "id": "UyNcofqhsy5r"
   },
   "outputs": [],
   "source": [
    "# Remove pontuação de um texto\n",
    "def remove_punctuation(text):\n",
    "    return text.translate(str.maketrans('', '', string.punctuation))\n",
    "\n",
    "# Normaliza o texto\n",
    "def normalize_text(text, replace_institutions=False):\n",
    "    text = text.lower()\n",
    "    text = re.sub(r'[\\r\\n]+', ' ', text)\n",
    "    text = re.sub(r'\\d+|/', '', text)\n",
    "    text = re.sub(r'\\bx\\b|\\w*xx+\\w*', '', text)\n",
    "    text = remove_punctuation(text)\n",
    "    text = re.sub(r'\\s+', ' ', text)\n",
    "    text = text.strip()\n",
    "\n",
    "    if replace_institutions:\n",
    "        for institution in institution_names:\n",
    "            text = re.sub(r'\\b' + re.escape(institution) + r'\\b', '[INST]', text)\n",
    "    else:\n",
    "        for institution in institution_names:\n",
    "            text = re.sub(r'\\b' + re.escape(institution) + r'\\b', '', text)\n",
    "\n",
    "    return text\n",
    "\n",
    "# Normaliza e tokeniza o texto\n",
    "def norm_tokenize(text):\n",
    "    text = normalize_text(text, replace_institutions=False)\n",
    "    tokens = word_tokenize(text)\n",
    "    text = [x for x in tokens if x not in stopwords_list]\n",
    "    return [y for y in text if len(y) > 2]\n",
    "\n",
    "# Lematiza os tokens usando spacy\n",
    "def lemmatize_tokens(tokens, pos=\"VERB\"):\n",
    "    doc = nlp(\" \".join(tokens))\n",
    "    return [token.lemma_ if token.pos_ == pos else token.text for token in doc]\n",
    "\n",
    "# Normaliza e tokeniza o texto usando o tokenizer do BERT\n",
    "def bert_tokenize(text):\n",
    "    text = normalize_text(text, replace_institutions=True)\n",
    "    words = re.findall(r'\\[INST\\]|\\w+|\\S', text)\n",
    "    filtered_words = [word for word in words if word not in stopwords_list]\n",
    "\n",
    "    # Tokeniza o texto com BERT\n",
    "    tokens = tokenizer(\n",
    "        \" \".join(filtered_words),\n",
    "        truncation=True,\n",
    "        padding='max_length',\n",
    "        max_length=128,\n",
    "        return_tensors='pt'\n",
    "    )\n",
    "\n",
    "    return tokens"
   ]
  },
  {
   "cell_type": "markdown",
   "metadata": {
    "id": "5Vtv-XUeIsLK"
   },
   "source": [
    "### **Pré-processamento e Normalização para Skip-gram**:\n",
    "  1. **Limpeza Básica:**\n",
    "* Conversão para minúsculas\n",
    "* Remoção de \\r, \\n, dígitos, caracteres sigilosos e pontuação.\n",
    "* Normalização de espaços (duplos → simples, trim de espaços extras).\n",
    "  2. **Tratamento Específico:**\n",
    "* Remoção de stopwords e tokens de marcas/instituições (ex: chase, bank).\n",
    "* Tokenização com word_tokenize (NLTK).\n",
    "* Lematização de verbos (para reduzir variações)."
   ]
  },
  {
   "cell_type": "code",
   "execution_count": 38,
   "metadata": {
    "executionInfo": {
     "elapsed": 1280,
     "status": "ok",
     "timestamp": 1743462447151,
     "user": {
      "displayName": "Luiz Henrique Oliveira",
      "userId": "01652462041432361084"
     },
     "user_tz": 180
    },
    "id": "q0_tZ6Mgbv7H"
   },
   "outputs": [],
   "source": [
    "# Carrega o modelo de NLP do spacy para português\n",
    "nlp = spacy.load(\"pt_core_news_sm\")\n",
    "\n",
    "# Se estiver rodando na GPU roda o spacy com GPU\n",
    "if device.type == \"cuda\":\n",
    "    spacy.require_gpu()"
   ]
  },
  {
   "cell_type": "code",
   "execution_count": 39,
   "metadata": {
    "executionInfo": {
     "elapsed": 472465,
     "status": "ok",
     "timestamp": 1743462919626,
     "user": {
      "displayName": "Luiz Henrique Oliveira",
      "userId": "01652462041432361084"
     },
     "user_tz": 180
    },
    "id": "78ozS_lnb8Xz"
   },
   "outputs": [],
   "source": [
    "# Aplica a tokenização e remove stopwords\n",
    "df_train['tokens'] = df_train['descricao_reclamacao'].apply(norm_tokenize)\n",
    "df_test['tokens'] = df_test['descricao_reclamacao'].apply(norm_tokenize)\n",
    "\n",
    "# Lematiza os tokens de verbos\n",
    "df_train['tokens'] = df_train['tokens'].apply(lambda tokens: lemmatize_tokens(tokens, pos=\"VERB\"))\n",
    "df_test['tokens'] = df_test['tokens'].apply(lambda tokens: lemmatize_tokens(tokens, pos=\"VERB\"))"
   ]
  },
  {
   "cell_type": "markdown",
   "metadata": {
    "id": "xTAGRNbrcUtl"
   },
   "source": [
    "### **Pré-processamento e *Normalização* para BERT**\n",
    "  1. **Limpeza similar ao Skip-gram, mas com adaptações:**\n",
    "* Substituição de marcas/instituições por [INST].\n",
    "* Tokenização com o tokenizador do BERT.\n",
    "* Remoção de stopwords.\n",
    "\n",
    "2. **Preparação dos Tensores:**\n",
    " * Remoção da dimensão extra dos tokens gerados pelo BERT.\n",
    " * Conversão dos dados em tensores, contendo: (input_ids, attention_mask e categorias)\n",
    " * Separação dos tensores em conjuntos de treino e teste para avaliação.\n",
    "\n",
    "\n",
    "**Observação:**\n",
    "Apesar de práticas como descapitalização (modelo cased), remoção de pontuação e stopwords não serem recomendadas para BERT, meus testes mostraram +2% de acurácia com essas transformações. Possíveis razões:\n",
    "* O modelo utilizado não é dos mais recentes (ex: BERT vs RoBERTa).\n",
    "* O conjunto de dados pode conter ruídos que as limpezas ajudaram a mitigar."
   ]
  },
  {
   "cell_type": "code",
   "execution_count": 41,
   "metadata": {
    "executionInfo": {
     "elapsed": 452,
     "status": "ok",
     "timestamp": 1743462956260,
     "user": {
      "displayName": "Luiz Henrique Oliveira",
      "userId": "01652462041432361084"
     },
     "user_tz": 180
    },
    "id": "FCsY9rjTcpsj"
   },
   "outputs": [],
   "source": [
    "# Inicializa o tokenizer do BERT treinado para português\n",
    "tokenizer = BertTokenizer.from_pretrained('neuralmind/bert-base-portuguese-cased')\n",
    "\n",
    "# Adiciona um token personalizado ao vocabulário do tokenizer, caso ainda não exista\n",
    "if \"[INST]\" not in tokenizer.get_vocab():\n",
    "    tokenizer.add_tokens([\"[INST]\"])"
   ]
  },
  {
   "cell_type": "code",
   "execution_count": 42,
   "metadata": {
    "collapsed": true,
    "executionInfo": {
     "elapsed": 89928,
     "status": "ok",
     "timestamp": 1743463077261,
     "user": {
      "displayName": "Luiz Henrique Oliveira",
      "userId": "01652462041432361084"
     },
     "user_tz": 180
    },
    "id": "ELjsd9jONCHa"
   },
   "outputs": [],
   "source": [
    "# Tokeniza o texto usando o modelo BERT\n",
    "df_train['tokens_bert'] = df_train['descricao_reclamacao'].apply(bert_tokenize)\n",
    "df_test['tokens_bert'] = df_test['descricao_reclamacao'].apply(bert_tokenize)"
   ]
  },
  {
   "cell_type": "code",
   "execution_count": 43,
   "metadata": {
    "executionInfo": {
     "elapsed": 464,
     "status": "ok",
     "timestamp": 1743463077722,
     "user": {
      "displayName": "Luiz Henrique Oliveira",
      "userId": "01652462041432361084"
     },
     "user_tz": 180
    },
    "id": "fxY1Tof6IceW"
   },
   "outputs": [],
   "source": [
    "# Extrai os tensores de input_ids, attention_mask e token_type_ids dos tokens BERT\n",
    "df_train['input_ids'] = df_train['tokens_bert'].apply(lambda x: x['input_ids'].squeeze(0))\n",
    "df_train['attention_mask'] = df_train['tokens_bert'].apply(lambda x: x['attention_mask'].squeeze(0))\n",
    "df_train['token_type_ids'] = df_train['tokens_bert'].apply(lambda x: x['token_type_ids'].squeeze(0))\n",
    "\n",
    "df_test['input_ids'] = df_test['tokens_bert'].apply(lambda x: x['input_ids'].squeeze(0))\n",
    "df_test['attention_mask'] = df_test['tokens_bert'].apply(lambda x: x['attention_mask'].squeeze(0))\n",
    "df_test['token_type_ids'] = df_test['tokens_bert'].apply(lambda x: x['token_type_ids'].squeeze(0))\n",
    "\n",
    "# Converte os dados processados em TensorDatasets para treino e teste\n",
    "train_tensor = TensorDataset(\n",
    "    torch.stack(df_train['input_ids'].tolist()),\n",
    "    torch.stack(df_train['attention_mask'].tolist()),\n",
    "    torch.tensor(df_train['categoria'].tolist())\n",
    ")\n",
    "\n",
    "test_tensor = TensorDataset(\n",
    "    torch.stack(df_test['input_ids'].tolist()),\n",
    "    torch.stack(df_test['attention_mask'].tolist()),\n",
    "    torch.tensor(df_test['categoria'].tolist())\n",
    ")"
   ]
  },
  {
   "cell_type": "markdown",
   "metadata": {
    "id": "wnxZ0DdHtb3Z"
   },
   "source": [
    "## 6. **Embedding**\n",
    "\n",
    "Nesta etapa, focaremos no Skip-gram, já que o BertForSequenceClassification processa os embeddings internamente, incluindo sua própria camada de classificação."
   ]
  },
  {
   "cell_type": "markdown",
   "metadata": {
    "id": "c1jWRFcMzW_Q"
   },
   "source": [
    "### **Embedding com Skip-gram**\n",
    "\n",
    "* Utilizei o Word2Vec (Skip-gram) para representar cada palavra como um vetor de 300 dimensões.\n",
    "* Para textos com múltiplos tokens, apliquei a média dos vetores (vetores médios)."
   ]
  },
  {
   "cell_type": "code",
   "execution_count": 44,
   "metadata": {
    "executionInfo": {
     "elapsed": 168547,
     "status": "ok",
     "timestamp": 1743463396185,
     "user": {
      "displayName": "Luiz Henrique Oliveira",
      "userId": "01652462041432361084"
     },
     "user_tz": 180
    },
    "id": "JKb9SjeHtbUk"
   },
   "outputs": [],
   "source": [
    "# Carrega os vetores Word2Vec pré-treinados com 300 dimensões\n",
    "model_skip = KeyedVectors.load_word2vec_format('/content/data-science-projects/nlp/model/skip_s300.txt')"
   ]
  },
  {
   "cell_type": "code",
   "execution_count": 45,
   "metadata": {
    "executionInfo": {
     "elapsed": 144,
     "status": "ok",
     "timestamp": 1743463498514,
     "user": {
      "displayName": "Luiz Henrique Oliveira",
      "userId": "01652462041432361084"
     },
     "user_tz": 180
    },
    "id": "FziwgqJmw9OD"
   },
   "outputs": [],
   "source": [
    "# Calcula o vetor médio de uma lista de tokens usando o modelo Word2Vec\n",
    "def average_vector(words):\n",
    "    vectors = [model_skip[word] for word in words if word in model_skip]\n",
    "\n",
    "    if vectors:\n",
    "        return sum(vectors) / len(vectors)\n",
    "    else:\n",
    "        return np.zeros(model_skip.vector_size)"
   ]
  },
  {
   "cell_type": "code",
   "execution_count": 46,
   "metadata": {
    "collapsed": true,
    "executionInfo": {
     "elapsed": 5183,
     "status": "ok",
     "timestamp": 1743463506947,
     "user": {
      "displayName": "Luiz Henrique Oliveira",
      "userId": "01652462041432361084"
     },
     "user_tz": 180
    },
    "id": "25cBRwGAw8-1"
   },
   "outputs": [],
   "source": [
    "# Converte os tokens em vetores médios usando Word2Vec para treino e teste\n",
    "X_train = df_train['tokens'].apply(average_vector).tolist()\n",
    "X_test = df_test['tokens'].apply(average_vector).tolist()\n",
    "\n",
    "# Cria y de treino e teste\n",
    "y_test = df_test['categoria']\n",
    "y_train = df_train['categoria']"
   ]
  },
  {
   "cell_type": "markdown",
   "metadata": {
    "id": "J-wrLyny3juZ"
   },
   "source": [
    "## 7. **Pipeline de Treino e Teste**"
   ]
  },
  {
   "cell_type": "markdown",
   "metadata": {
    "id": "LCUQzNK_Gqp6"
   },
   "source": [
    "### **Fine-Tuning do BERT**\n",
    "\n",
    "**Hiperparâmetros Utilizados:**\n",
    "\n",
    "- Épocas: Até 10\n",
    "- Batch Size: 32\n",
    "- Learning Rate: 5e-5\n",
    "\n",
    "**Técnicas para Melhorar o Treinamento:**\n",
    "- Otimizador AdamW com a técnica \"weight decay\" para prevenir o overfitting .\n",
    "- Scheduler de taxa de aprendizagem com warmup para aumentar a taxas de aprendizagem gradualmente e evitar grandes ajustes nos pesos no início.\n",
    "- Early stopping para evitar overfitting e interromper o o treinamento se a loss não melhorar por 2 épocas, e salvar o  modelo com menor test loss.\n",
    "- Após o treinamento de cada época o modelo é avaliado e as métricas exibidas em tela."
   ]
  },
  {
   "cell_type": "code",
   "execution_count": 47,
   "metadata": {
    "colab": {
     "base_uri": "https://localhost:8080/",
     "height": 1000,
     "referenced_widgets": [
      "6ca09d350fef4f0a9b0fa6a83075ffad",
      "513e7f668ee041c5a026e0386b6f8721",
      "86669e01917a494db6217a7ce41a708d",
      "80e253dfafff44539b5ddb0705f88566",
      "8e098ba7998a43588e4c0db06914a496",
      "8e724262f6844c79a7e23e6a61df8b9f",
      "9a0977e423d64520b23b519c878f6fed",
      "f4dcac4b87b640d8b3b280f27b4e931f",
      "ff073aa4bfb44eb29b4cfb4019ac20bd",
      "fc13eecca9744badadd8ae2766de00fc",
      "d7a4b1514d5b4c49ad565efc7b6b89f3",
      "239d0d8d2c864ae783ee7c84ba06dbc6",
      "c7443e126efa4884a3e7f742de7766d6",
      "e8e1b0926f154bf2aef5c1786bd79175",
      "0f70008e989946b9aaf752441bcb0b95",
      "1f8a66723df44b3db76b11877ce746f0",
      "9b581470ce234ba38d1bff165dfe94c6",
      "49490155621344b19395b307303e5500",
      "7cd7916b7212414fbb5e87c0e9991122",
      "1bd96112cafe49ed831fef8478bce766",
      "7800218fd239460d86d7faf8dcdc03d3",
      "4460c1a27ebc47d6a5346ed6f67b8fa6"
     ]
    },
    "collapsed": true,
    "executionInfo": {
     "elapsed": 1427617,
     "status": "ok",
     "timestamp": 1743464943772,
     "user": {
      "displayName": "Luiz Henrique Oliveira",
      "userId": "01652462041432361084"
     },
     "user_tz": 180
    },
    "id": "JNU5B4GgEEh3",
    "outputId": "dcc29c18-3d55-4ce1-941a-74fe03be4e86"
   },
   "outputs": [
    {
     "data": {
      "application/vnd.jupyter.widget-view+json": {
       "model_id": "6ca09d350fef4f0a9b0fa6a83075ffad",
       "version_major": 2,
       "version_minor": 0
      },
      "text/plain": [
       "pytorch_model.bin:   0%|          | 0.00/438M [00:00<?, ?B/s]"
      ]
     },
     "metadata": {},
     "output_type": "display_data"
    },
    {
     "name": "stderr",
     "output_type": "stream",
     "text": [
      "Some weights of BertForSequenceClassification were not initialized from the model checkpoint at neuralmind/bert-base-portuguese-cased and are newly initialized: ['classifier.bias', 'classifier.weight']\n",
      "You should probably TRAIN this model on a down-stream task to be able to use it for predictions and inference.\n",
      "The new embeddings will be initialized from a multivariate normal distribution that has old embeddings' mean and covariance. As described in this article: https://nlp.stanford.edu/~johnhew/vocab-expansion.html. To disable this, use `mean_resizing=False`\n"
     ]
    },
    {
     "data": {
      "application/vnd.jupyter.widget-view+json": {
       "model_id": "239d0d8d2c864ae783ee7c84ba06dbc6",
       "version_major": 2,
       "version_minor": 0
      },
      "text/plain": [
       "model.safetensors:   0%|          | 0.00/438M [00:00<?, ?B/s]"
      ]
     },
     "metadata": {},
     "output_type": "display_data"
    },
    {
     "name": "stderr",
     "output_type": "stream",
     "text": [
      "\n",
      "Epoch 1:   0%|          | 0/494 [00:00<?, ?it/s]\u001b[A\n",
      "Epoch 1:   0%|          | 1/494 [00:02<21:02,  2.56s/it]\u001b[A\n",
      "Epoch 1:   0%|          | 2/494 [00:03<11:41,  1.43s/it]\u001b[A\n",
      "Epoch 1:   1%|          | 3/494 [00:03<08:51,  1.08s/it]\u001b[A\n",
      "Epoch 1:   1%|          | 4/494 [00:04<07:27,  1.09it/s]\u001b[A\n",
      "Epoch 1:   1%|          | 5/494 [00:05<06:40,  1.22it/s]\u001b[A\n",
      "Epoch 1:   1%|          | 6/494 [00:05<06:13,  1.31it/s]\u001b[A\n",
      "Epoch 1:   1%|▏         | 7/494 [00:06<05:55,  1.37it/s]\u001b[A\n",
      "Epoch 1:   2%|▏         | 8/494 [00:07<05:46,  1.40it/s]\u001b[A\n",
      "Epoch 1:   2%|▏         | 9/494 [00:07<05:38,  1.43it/s]\u001b[A\n",
      "Epoch 1:   2%|▏         | 10/494 [00:08<05:33,  1.45it/s]\u001b[A\n",
      "Epoch 1:   2%|▏         | 11/494 [00:09<05:28,  1.47it/s]\u001b[A\n",
      "Epoch 1:   2%|▏         | 12/494 [00:09<05:26,  1.48it/s]\u001b[A\n",
      "Epoch 1:   3%|▎         | 13/494 [00:10<05:26,  1.47it/s]\u001b[A\n",
      "Epoch 1:   3%|▎         | 14/494 [00:11<05:24,  1.48it/s]\u001b[A\n",
      "Epoch 1:   3%|▎         | 15/494 [00:11<05:23,  1.48it/s]\u001b[A\n",
      "Epoch 1:   3%|▎         | 16/494 [00:12<05:24,  1.47it/s]\u001b[A\n",
      "Epoch 1:   3%|▎         | 17/494 [00:13<05:24,  1.47it/s]\u001b[A\n",
      "Epoch 1:   4%|▎         | 18/494 [00:13<05:24,  1.47it/s]\u001b[A\n",
      "Epoch 1:   4%|▍         | 19/494 [00:14<05:25,  1.46it/s]\u001b[A\n",
      "Epoch 1:   4%|▍         | 20/494 [00:15<05:24,  1.46it/s]\u001b[A\n",
      "Epoch 1:   4%|▍         | 21/494 [00:15<05:24,  1.46it/s]\u001b[A\n",
      "Epoch 1:   4%|▍         | 22/494 [00:16<05:25,  1.45it/s]\u001b[A\n",
      "Epoch 1:   5%|▍         | 23/494 [00:17<05:25,  1.45it/s]\u001b[A\n",
      "Epoch 1:   5%|▍         | 24/494 [00:18<05:24,  1.45it/s]\u001b[A\n",
      "Epoch 1:   5%|▌         | 25/494 [00:18<05:23,  1.45it/s]\u001b[A\n",
      "Epoch 1:   5%|▌         | 26/494 [00:19<05:24,  1.44it/s]\u001b[A\n",
      "Epoch 1:   5%|▌         | 27/494 [00:20<05:23,  1.44it/s]\u001b[A\n",
      "Epoch 1:   6%|▌         | 28/494 [00:20<05:22,  1.44it/s]\u001b[A\n",
      "Epoch 1:   6%|▌         | 29/494 [00:21<05:21,  1.45it/s]\u001b[A\n",
      "Epoch 1:   6%|▌         | 30/494 [00:22<05:20,  1.45it/s]\u001b[A\n",
      "Epoch 1:   6%|▋         | 31/494 [00:22<05:18,  1.45it/s]\u001b[A\n",
      "Epoch 1:   6%|▋         | 32/494 [00:23<05:17,  1.46it/s]\u001b[A\n",
      "Epoch 1:   7%|▋         | 33/494 [00:24<05:16,  1.46it/s]\u001b[A\n",
      "Epoch 1:   7%|▋         | 34/494 [00:24<05:14,  1.46it/s]\u001b[A\n",
      "Epoch 1:   7%|▋         | 35/494 [00:25<05:12,  1.47it/s]\u001b[A\n",
      "Epoch 1:   7%|▋         | 36/494 [00:26<05:10,  1.47it/s]\u001b[A\n",
      "Epoch 1:   7%|▋         | 37/494 [00:26<05:10,  1.47it/s]\u001b[A\n",
      "Epoch 1:   8%|▊         | 38/494 [00:27<05:09,  1.47it/s]\u001b[A\n",
      "Epoch 1:   8%|▊         | 39/494 [00:28<05:07,  1.48it/s]\u001b[A\n",
      "Epoch 1:   8%|▊         | 40/494 [00:28<05:06,  1.48it/s]\u001b[A\n",
      "Epoch 1:   8%|▊         | 41/494 [00:29<05:03,  1.49it/s]\u001b[A\n",
      "Epoch 1:   9%|▊         | 42/494 [00:30<05:03,  1.49it/s]\u001b[A\n",
      "Epoch 1:   9%|▊         | 43/494 [00:30<05:02,  1.49it/s]\u001b[A\n",
      "Epoch 1:   9%|▉         | 44/494 [00:31<05:00,  1.50it/s]\u001b[A\n",
      "Epoch 1:   9%|▉         | 45/494 [00:32<05:00,  1.49it/s]\u001b[A\n",
      "Epoch 1:   9%|▉         | 46/494 [00:32<04:59,  1.50it/s]\u001b[A\n",
      "Epoch 1:  10%|▉         | 47/494 [00:33<04:58,  1.50it/s]\u001b[A\n",
      "Epoch 1:  10%|▉         | 48/494 [00:34<04:55,  1.51it/s]\u001b[A\n",
      "Epoch 1:  10%|▉         | 49/494 [00:34<04:54,  1.51it/s]\u001b[A\n",
      "Epoch 1:  10%|█         | 50/494 [00:35<04:52,  1.52it/s]\u001b[A\n",
      "Epoch 1:  10%|█         | 51/494 [00:36<04:51,  1.52it/s]\u001b[A\n",
      "Epoch 1:  11%|█         | 52/494 [00:36<04:50,  1.52it/s]\u001b[A\n",
      "Epoch 1:  11%|█         | 53/494 [00:37<04:49,  1.52it/s]\u001b[A\n",
      "Epoch 1:  11%|█         | 54/494 [00:38<04:47,  1.53it/s]\u001b[A\n",
      "Epoch 1:  11%|█         | 55/494 [00:38<04:46,  1.53it/s]\u001b[A\n",
      "Epoch 1:  11%|█▏        | 56/494 [00:39<04:44,  1.54it/s]\u001b[A\n",
      "Epoch 1:  12%|█▏        | 57/494 [00:40<04:44,  1.54it/s]\u001b[A\n",
      "Epoch 1:  12%|█▏        | 58/494 [00:40<04:42,  1.54it/s]\u001b[A\n",
      "Epoch 1:  12%|█▏        | 59/494 [00:41<04:41,  1.55it/s]\u001b[A\n",
      "Epoch 1:  12%|█▏        | 60/494 [00:42<04:40,  1.55it/s]\u001b[A\n",
      "Epoch 1:  12%|█▏        | 61/494 [00:42<04:39,  1.55it/s]\u001b[A\n",
      "Epoch 1:  13%|█▎        | 62/494 [00:43<04:39,  1.55it/s]\u001b[A\n",
      "Epoch 1:  13%|█▎        | 63/494 [00:44<04:38,  1.55it/s]\u001b[A\n",
      "Epoch 1:  13%|█▎        | 64/494 [00:44<04:37,  1.55it/s]\u001b[A\n",
      "Epoch 1:  13%|█▎        | 65/494 [00:45<04:36,  1.55it/s]\u001b[A\n",
      "Epoch 1:  13%|█▎        | 66/494 [00:45<04:35,  1.56it/s]\u001b[A\n",
      "Epoch 1:  14%|█▎        | 67/494 [00:46<04:33,  1.56it/s]\u001b[A\n",
      "Epoch 1:  14%|█▍        | 68/494 [00:47<04:32,  1.56it/s]\u001b[A\n",
      "Epoch 1:  14%|█▍        | 69/494 [00:47<04:32,  1.56it/s]\u001b[A\n",
      "Epoch 1:  14%|█▍        | 70/494 [00:48<04:31,  1.56it/s]\u001b[A\n",
      "Epoch 1:  14%|█▍        | 71/494 [00:49<04:30,  1.57it/s]\u001b[A\n",
      "Epoch 1:  15%|█▍        | 72/494 [00:49<04:29,  1.57it/s]\u001b[A\n",
      "Epoch 1:  15%|█▍        | 73/494 [00:50<04:28,  1.57it/s]\u001b[A\n",
      "Epoch 1:  15%|█▍        | 74/494 [00:51<04:27,  1.57it/s]\u001b[A\n",
      "Epoch 1:  15%|█▌        | 75/494 [00:51<04:27,  1.57it/s]\u001b[A\n",
      "Epoch 1:  15%|█▌        | 76/494 [00:52<04:25,  1.57it/s]\u001b[A\n",
      "Epoch 1:  16%|█▌        | 77/494 [00:52<04:24,  1.58it/s]\u001b[A\n",
      "Epoch 1:  16%|█▌        | 78/494 [00:53<04:23,  1.58it/s]\u001b[A\n",
      "Epoch 1:  16%|█▌        | 79/494 [00:54<04:22,  1.58it/s]\u001b[A\n",
      "Epoch 1:  16%|█▌        | 80/494 [00:54<04:22,  1.57it/s]\u001b[A\n",
      "Epoch 1:  16%|█▋        | 81/494 [00:55<04:22,  1.57it/s]\u001b[A\n",
      "Epoch 1:  17%|█▋        | 82/494 [00:56<04:21,  1.57it/s]\u001b[A\n",
      "Epoch 1:  17%|█▋        | 83/494 [00:56<04:20,  1.58it/s]\u001b[A\n",
      "Epoch 1:  17%|█▋        | 84/494 [00:57<04:19,  1.58it/s]\u001b[A\n",
      "Epoch 1:  17%|█▋        | 85/494 [00:58<04:19,  1.58it/s]\u001b[A\n",
      "Epoch 1:  17%|█▋        | 86/494 [00:58<04:18,  1.58it/s]\u001b[A\n",
      "Epoch 1:  18%|█▊        | 87/494 [00:59<04:18,  1.57it/s]\u001b[A\n",
      "Epoch 1:  18%|█▊        | 88/494 [00:59<04:17,  1.57it/s]\u001b[A\n",
      "Epoch 1:  18%|█▊        | 89/494 [01:00<04:16,  1.58it/s]\u001b[A\n",
      "Epoch 1:  18%|█▊        | 90/494 [01:01<04:16,  1.58it/s]\u001b[A\n",
      "Epoch 1:  18%|█▊        | 91/494 [01:01<04:14,  1.58it/s]\u001b[A\n",
      "Epoch 1:  19%|█▊        | 92/494 [01:02<04:14,  1.58it/s]\u001b[A\n",
      "Epoch 1:  19%|█▉        | 93/494 [01:03<04:13,  1.58it/s]\u001b[A\n",
      "Epoch 1:  19%|█▉        | 94/494 [01:03<04:13,  1.58it/s]\u001b[A\n",
      "Epoch 1:  19%|█▉        | 95/494 [01:04<04:12,  1.58it/s]\u001b[A\n",
      "Epoch 1:  19%|█▉        | 96/494 [01:05<04:11,  1.58it/s]\u001b[A\n",
      "Epoch 1:  20%|█▉        | 97/494 [01:05<04:10,  1.58it/s]\u001b[A\n",
      "Epoch 1:  20%|█▉        | 98/494 [01:06<04:09,  1.59it/s]\u001b[A\n",
      "Epoch 1:  20%|██        | 99/494 [01:06<04:09,  1.58it/s]\u001b[A\n",
      "Epoch 1:  20%|██        | 100/494 [01:07<04:09,  1.58it/s]\u001b[A\n",
      "Epoch 1:  20%|██        | 101/494 [01:08<04:08,  1.58it/s]\u001b[A\n",
      "Epoch 1:  21%|██        | 102/494 [01:08<04:06,  1.59it/s]\u001b[A\n",
      "Epoch 1:  21%|██        | 103/494 [01:09<04:06,  1.59it/s]\u001b[A\n",
      "Epoch 1:  21%|██        | 104/494 [01:10<04:05,  1.59it/s]\u001b[A\n",
      "Epoch 1:  21%|██▏       | 105/494 [01:10<04:04,  1.59it/s]\u001b[A\n",
      "Epoch 1:  21%|██▏       | 106/494 [01:11<04:05,  1.58it/s]\u001b[A\n",
      "Epoch 1:  22%|██▏       | 107/494 [01:11<04:04,  1.58it/s]\u001b[A\n",
      "Epoch 1:  22%|██▏       | 108/494 [01:12<04:03,  1.58it/s]\u001b[A\n",
      "Epoch 1:  22%|██▏       | 109/494 [01:13<04:03,  1.58it/s]\u001b[A\n",
      "Epoch 1:  22%|██▏       | 110/494 [01:13<04:03,  1.58it/s]\u001b[A\n",
      "Epoch 1:  22%|██▏       | 111/494 [01:14<04:02,  1.58it/s]\u001b[A\n",
      "Epoch 1:  23%|██▎       | 112/494 [01:15<04:02,  1.58it/s]\u001b[A\n",
      "Epoch 1:  23%|██▎       | 113/494 [01:15<04:01,  1.58it/s]\u001b[A\n",
      "Epoch 1:  23%|██▎       | 114/494 [01:16<04:00,  1.58it/s]\u001b[A\n",
      "Epoch 1:  23%|██▎       | 115/494 [01:17<04:00,  1.57it/s]\u001b[A\n",
      "Epoch 1:  23%|██▎       | 116/494 [01:17<04:00,  1.57it/s]\u001b[A\n",
      "Epoch 1:  24%|██▎       | 117/494 [01:18<04:00,  1.56it/s]\u001b[A\n",
      "Epoch 1:  24%|██▍       | 118/494 [01:18<03:59,  1.57it/s]\u001b[A\n",
      "Epoch 1:  24%|██▍       | 119/494 [01:19<03:59,  1.57it/s]\u001b[A\n",
      "Epoch 1:  24%|██▍       | 120/494 [01:20<03:58,  1.57it/s]\u001b[A\n",
      "Epoch 1:  24%|██▍       | 121/494 [01:20<03:57,  1.57it/s]\u001b[A\n",
      "Epoch 1:  25%|██▍       | 122/494 [01:21<03:57,  1.57it/s]\u001b[A\n",
      "Epoch 1:  25%|██▍       | 123/494 [01:22<03:56,  1.57it/s]\u001b[A\n",
      "Epoch 1:  25%|██▌       | 124/494 [01:22<03:56,  1.57it/s]\u001b[A\n",
      "Epoch 1:  25%|██▌       | 125/494 [01:23<03:56,  1.56it/s]\u001b[A\n",
      "Epoch 1:  26%|██▌       | 126/494 [01:24<03:55,  1.56it/s]\u001b[A\n",
      "Epoch 1:  26%|██▌       | 127/494 [01:24<03:55,  1.56it/s]\u001b[A\n",
      "Epoch 1:  26%|██▌       | 128/494 [01:25<03:54,  1.56it/s]\u001b[A\n",
      "Epoch 1:  26%|██▌       | 129/494 [01:25<03:54,  1.56it/s]\u001b[A\n",
      "Epoch 1:  26%|██▋       | 130/494 [01:26<03:53,  1.56it/s]\u001b[A\n",
      "Epoch 1:  27%|██▋       | 131/494 [01:27<03:52,  1.56it/s]\u001b[A\n",
      "Epoch 1:  27%|██▋       | 132/494 [01:27<03:52,  1.56it/s]\u001b[A\n",
      "Epoch 1:  27%|██▋       | 133/494 [01:28<03:52,  1.56it/s]\u001b[A\n",
      "Epoch 1:  27%|██▋       | 134/494 [01:29<03:50,  1.56it/s]\u001b[A\n",
      "Epoch 1:  27%|██▋       | 135/494 [01:29<03:51,  1.55it/s]\u001b[A\n",
      "Epoch 1:  28%|██▊       | 136/494 [01:30<03:51,  1.55it/s]\u001b[A\n",
      "Epoch 1:  28%|██▊       | 137/494 [01:31<03:50,  1.55it/s]\u001b[A\n",
      "Epoch 1:  28%|██▊       | 138/494 [01:31<03:49,  1.55it/s]\u001b[A\n",
      "Epoch 1:  28%|██▊       | 139/494 [01:32<03:49,  1.55it/s]\u001b[A\n",
      "Epoch 1:  28%|██▊       | 140/494 [01:33<03:49,  1.54it/s]\u001b[A\n",
      "Epoch 1:  29%|██▊       | 141/494 [01:33<03:48,  1.55it/s]\u001b[A\n",
      "Epoch 1:  29%|██▊       | 142/494 [01:34<03:48,  1.54it/s]\u001b[A\n",
      "Epoch 1:  29%|██▉       | 143/494 [01:35<03:47,  1.54it/s]\u001b[A\n",
      "Epoch 1:  29%|██▉       | 144/494 [01:35<03:46,  1.54it/s]\u001b[A\n",
      "Epoch 1:  29%|██▉       | 145/494 [01:36<03:46,  1.54it/s]\u001b[A\n",
      "Epoch 1:  30%|██▉       | 146/494 [01:36<03:46,  1.54it/s]\u001b[A\n",
      "Epoch 1:  30%|██▉       | 147/494 [01:37<03:44,  1.54it/s]\u001b[A\n",
      "Epoch 1:  30%|██▉       | 148/494 [01:38<03:44,  1.54it/s]\u001b[A\n",
      "Epoch 1:  30%|███       | 149/494 [01:38<03:44,  1.54it/s]\u001b[A\n",
      "Epoch 1:  30%|███       | 150/494 [01:39<03:43,  1.54it/s]\u001b[A\n",
      "Epoch 1:  31%|███       | 151/494 [01:40<03:42,  1.54it/s]\u001b[A\n",
      "Epoch 1:  31%|███       | 152/494 [01:40<03:42,  1.53it/s]\u001b[A\n",
      "Epoch 1:  31%|███       | 153/494 [01:41<03:41,  1.54it/s]\u001b[A\n",
      "Epoch 1:  31%|███       | 154/494 [01:42<03:41,  1.53it/s]\u001b[A\n",
      "Epoch 1:  31%|███▏      | 155/494 [01:42<03:40,  1.54it/s]\u001b[A\n",
      "Epoch 1:  32%|███▏      | 156/494 [01:43<03:40,  1.54it/s]\u001b[A\n",
      "Epoch 1:  32%|███▏      | 157/494 [01:44<03:39,  1.54it/s]\u001b[A\n",
      "Epoch 1:  32%|███▏      | 158/494 [01:44<03:38,  1.54it/s]\u001b[A\n",
      "Epoch 1:  32%|███▏      | 159/494 [01:45<03:37,  1.54it/s]\u001b[A\n",
      "Epoch 1:  32%|███▏      | 160/494 [01:46<03:36,  1.54it/s]\u001b[A\n",
      "Epoch 1:  33%|███▎      | 161/494 [01:46<03:37,  1.53it/s]\u001b[A\n",
      "Epoch 1:  33%|███▎      | 162/494 [01:47<03:36,  1.53it/s]\u001b[A\n",
      "Epoch 1:  33%|███▎      | 163/494 [01:48<03:35,  1.54it/s]\u001b[A\n",
      "Epoch 1:  33%|███▎      | 164/494 [01:48<03:34,  1.54it/s]\u001b[A\n",
      "Epoch 1:  33%|███▎      | 165/494 [01:49<03:33,  1.54it/s]\u001b[A\n",
      "Epoch 1:  34%|███▎      | 166/494 [01:49<03:33,  1.54it/s]\u001b[A\n",
      "Epoch 1:  34%|███▍      | 167/494 [01:50<03:33,  1.53it/s]\u001b[A\n",
      "Epoch 1:  34%|███▍      | 168/494 [01:51<03:32,  1.53it/s]\u001b[A\n",
      "Epoch 1:  34%|███▍      | 169/494 [01:51<03:31,  1.54it/s]\u001b[A\n",
      "Epoch 1:  34%|███▍      | 170/494 [01:52<03:30,  1.54it/s]\u001b[A\n",
      "Epoch 1:  35%|███▍      | 171/494 [01:53<03:29,  1.54it/s]\u001b[A\n",
      "Epoch 1:  35%|███▍      | 172/494 [01:53<03:29,  1.54it/s]\u001b[A\n",
      "Epoch 1:  35%|███▌      | 173/494 [01:54<03:28,  1.54it/s]\u001b[A\n",
      "Epoch 1:  35%|███▌      | 174/494 [01:55<03:28,  1.54it/s]\u001b[A\n",
      "Epoch 1:  35%|███▌      | 175/494 [01:55<03:28,  1.53it/s]\u001b[A\n",
      "Epoch 1:  36%|███▌      | 176/494 [01:56<03:26,  1.54it/s]\u001b[A\n",
      "Epoch 1:  36%|███▌      | 177/494 [01:57<03:26,  1.54it/s]\u001b[A\n",
      "Epoch 1:  36%|███▌      | 178/494 [01:57<03:24,  1.54it/s]\u001b[A\n",
      "Epoch 1:  36%|███▌      | 179/494 [01:58<03:23,  1.54it/s]\u001b[A\n",
      "Epoch 1:  36%|███▋      | 180/494 [01:59<03:23,  1.55it/s]\u001b[A\n",
      "Epoch 1:  37%|███▋      | 181/494 [01:59<03:22,  1.54it/s]\u001b[A\n",
      "Epoch 1:  37%|███▋      | 182/494 [02:00<03:21,  1.55it/s]\u001b[A\n",
      "Epoch 1:  37%|███▋      | 183/494 [02:01<03:21,  1.54it/s]\u001b[A\n",
      "Epoch 1:  37%|███▋      | 184/494 [02:01<03:21,  1.54it/s]\u001b[A\n",
      "Epoch 1:  37%|███▋      | 185/494 [02:02<03:20,  1.54it/s]\u001b[A\n",
      "Epoch 1:  38%|███▊      | 186/494 [02:02<03:20,  1.54it/s]\u001b[A\n",
      "Epoch 1:  38%|███▊      | 187/494 [02:03<03:19,  1.54it/s]\u001b[A\n",
      "Epoch 1:  38%|███▊      | 188/494 [02:04<03:18,  1.54it/s]\u001b[A\n",
      "Epoch 1:  38%|███▊      | 189/494 [02:04<03:17,  1.54it/s]\u001b[A\n",
      "Epoch 1:  38%|███▊      | 190/494 [02:05<03:16,  1.54it/s]\u001b[A\n",
      "Epoch 1:  39%|███▊      | 191/494 [02:06<03:16,  1.54it/s]\u001b[A\n",
      "Epoch 1:  39%|███▉      | 192/494 [02:06<03:15,  1.54it/s]\u001b[A\n",
      "Epoch 1:  39%|███▉      | 193/494 [02:07<03:14,  1.54it/s]\u001b[A\n",
      "Epoch 1:  39%|███▉      | 194/494 [02:08<03:14,  1.54it/s]\u001b[A\n",
      "Epoch 1:  39%|███▉      | 195/494 [02:08<03:13,  1.55it/s]\u001b[A\n",
      "Epoch 1:  40%|███▉      | 196/494 [02:09<03:12,  1.55it/s]\u001b[A\n",
      "Epoch 1:  40%|███▉      | 197/494 [02:10<03:11,  1.55it/s]\u001b[A\n",
      "Epoch 1:  40%|████      | 198/494 [02:10<03:11,  1.55it/s]\u001b[A\n",
      "Epoch 1:  40%|████      | 199/494 [02:11<03:10,  1.55it/s]\u001b[A\n",
      "Epoch 1:  40%|████      | 200/494 [02:12<03:10,  1.55it/s]\u001b[A\n",
      "Epoch 1:  41%|████      | 201/494 [02:12<03:09,  1.54it/s]\u001b[A\n",
      "Epoch 1:  41%|████      | 202/494 [02:13<03:08,  1.55it/s]\u001b[A\n",
      "Epoch 1:  41%|████      | 203/494 [02:13<03:07,  1.55it/s]\u001b[A\n",
      "Epoch 1:  41%|████▏     | 204/494 [02:14<03:07,  1.55it/s]\u001b[A\n",
      "Epoch 1:  41%|████▏     | 205/494 [02:15<03:06,  1.55it/s]\u001b[A\n",
      "Epoch 1:  42%|████▏     | 206/494 [02:15<03:05,  1.55it/s]\u001b[A\n",
      "Epoch 1:  42%|████▏     | 207/494 [02:16<03:04,  1.56it/s]\u001b[A\n",
      "Epoch 1:  42%|████▏     | 208/494 [02:17<03:03,  1.56it/s]\u001b[A\n",
      "Epoch 1:  42%|████▏     | 209/494 [02:17<03:02,  1.56it/s]\u001b[A\n",
      "Epoch 1:  43%|████▎     | 210/494 [02:18<03:02,  1.56it/s]\u001b[A\n",
      "Epoch 1:  43%|████▎     | 211/494 [02:19<03:02,  1.55it/s]\u001b[A\n",
      "Epoch 1:  43%|████▎     | 212/494 [02:19<03:01,  1.55it/s]\u001b[A\n",
      "Epoch 1:  43%|████▎     | 213/494 [02:20<03:00,  1.56it/s]\u001b[A\n",
      "Epoch 1:  43%|████▎     | 214/494 [02:21<02:59,  1.56it/s]\u001b[A\n",
      "Epoch 1:  44%|████▎     | 215/494 [02:21<02:59,  1.55it/s]\u001b[A\n",
      "Epoch 1:  44%|████▎     | 216/494 [02:22<02:58,  1.55it/s]\u001b[A\n",
      "Epoch 1:  44%|████▍     | 217/494 [02:22<02:58,  1.55it/s]\u001b[A\n",
      "Epoch 1:  44%|████▍     | 218/494 [02:23<02:57,  1.55it/s]\u001b[A\n",
      "Epoch 1:  44%|████▍     | 219/494 [02:24<02:56,  1.56it/s]\u001b[A\n",
      "Epoch 1:  45%|████▍     | 220/494 [02:24<02:55,  1.56it/s]\u001b[A\n",
      "Epoch 1:  45%|████▍     | 221/494 [02:25<02:54,  1.56it/s]\u001b[A\n",
      "Epoch 1:  45%|████▍     | 222/494 [02:26<02:53,  1.56it/s]\u001b[A\n",
      "Epoch 1:  45%|████▌     | 223/494 [02:26<02:53,  1.56it/s]\u001b[A\n",
      "Epoch 1:  45%|████▌     | 224/494 [02:27<02:52,  1.57it/s]\u001b[A\n",
      "Epoch 1:  46%|████▌     | 225/494 [02:28<02:51,  1.57it/s]\u001b[A\n",
      "Epoch 1:  46%|████▌     | 226/494 [02:28<02:51,  1.57it/s]\u001b[A\n",
      "Epoch 1:  46%|████▌     | 227/494 [02:29<02:51,  1.56it/s]\u001b[A\n",
      "Epoch 1:  46%|████▌     | 228/494 [02:30<02:50,  1.56it/s]\u001b[A\n",
      "Epoch 1:  46%|████▋     | 229/494 [02:30<02:49,  1.56it/s]\u001b[A\n",
      "Epoch 1:  47%|████▋     | 230/494 [02:31<02:49,  1.56it/s]\u001b[A\n",
      "Epoch 1:  47%|████▋     | 231/494 [02:31<02:48,  1.56it/s]\u001b[A\n",
      "Epoch 1:  47%|████▋     | 232/494 [02:32<02:47,  1.57it/s]\u001b[A\n",
      "Epoch 1:  47%|████▋     | 233/494 [02:33<02:47,  1.56it/s]\u001b[A\n",
      "Epoch 1:  47%|████▋     | 234/494 [02:33<02:47,  1.56it/s]\u001b[A\n",
      "Epoch 1:  48%|████▊     | 235/494 [02:34<02:46,  1.55it/s]\u001b[A\n",
      "Epoch 1:  48%|████▊     | 236/494 [02:35<02:46,  1.55it/s]\u001b[A\n",
      "Epoch 1:  48%|████▊     | 237/494 [02:35<02:46,  1.55it/s]\u001b[A\n",
      "Epoch 1:  48%|████▊     | 238/494 [02:36<02:46,  1.54it/s]\u001b[A\n",
      "Epoch 1:  48%|████▊     | 239/494 [02:37<02:45,  1.54it/s]\u001b[A\n",
      "Epoch 1:  49%|████▊     | 240/494 [02:37<02:44,  1.54it/s]\u001b[A\n",
      "Epoch 1:  49%|████▉     | 241/494 [02:38<02:43,  1.55it/s]\u001b[A\n",
      "Epoch 1:  49%|████▉     | 242/494 [02:39<02:42,  1.55it/s]\u001b[A\n",
      "Epoch 1:  49%|████▉     | 243/494 [02:39<02:42,  1.54it/s]\u001b[A\n",
      "Epoch 1:  49%|████▉     | 244/494 [02:40<02:41,  1.55it/s]\u001b[A\n",
      "Epoch 1:  50%|████▉     | 245/494 [02:40<02:41,  1.55it/s]\u001b[A\n",
      "Epoch 1:  50%|████▉     | 246/494 [02:41<02:40,  1.55it/s]\u001b[A\n",
      "Epoch 1:  50%|█████     | 247/494 [02:42<02:39,  1.55it/s]\u001b[A\n",
      "Epoch 1:  50%|█████     | 248/494 [02:42<02:39,  1.55it/s]\u001b[A\n",
      "Epoch 1:  50%|█████     | 249/494 [02:43<02:38,  1.54it/s]\u001b[A\n",
      "Epoch 1:  51%|█████     | 250/494 [02:44<02:38,  1.54it/s]\u001b[A\n",
      "Epoch 1:  51%|█████     | 251/494 [02:44<02:37,  1.55it/s]\u001b[A\n",
      "Epoch 1:  51%|█████     | 252/494 [02:45<02:36,  1.55it/s]\u001b[A\n",
      "Epoch 1:  51%|█████     | 253/494 [02:46<02:36,  1.54it/s]\u001b[A\n",
      "Epoch 1:  51%|█████▏    | 254/494 [02:46<02:34,  1.55it/s]\u001b[A\n",
      "Epoch 1:  52%|█████▏    | 255/494 [02:47<02:34,  1.55it/s]\u001b[A\n",
      "Epoch 1:  52%|█████▏    | 256/494 [02:48<02:33,  1.55it/s]\u001b[A\n",
      "Epoch 1:  52%|█████▏    | 257/494 [02:48<02:33,  1.55it/s]\u001b[A\n",
      "Epoch 1:  52%|█████▏    | 258/494 [02:49<02:32,  1.55it/s]\u001b[A\n",
      "Epoch 1:  52%|█████▏    | 259/494 [02:50<02:31,  1.55it/s]\u001b[A\n",
      "Epoch 1:  53%|█████▎    | 260/494 [02:50<02:30,  1.55it/s]\u001b[A\n",
      "Epoch 1:  53%|█████▎    | 261/494 [02:51<02:30,  1.55it/s]\u001b[A\n",
      "Epoch 1:  53%|█████▎    | 262/494 [02:51<02:29,  1.55it/s]\u001b[A\n",
      "Epoch 1:  53%|█████▎    | 263/494 [02:52<02:29,  1.55it/s]\u001b[A\n",
      "Epoch 1:  53%|█████▎    | 264/494 [02:53<02:29,  1.54it/s]\u001b[A\n",
      "Epoch 1:  54%|█████▎    | 265/494 [02:53<02:27,  1.55it/s]\u001b[A\n",
      "Epoch 1:  54%|█████▍    | 266/494 [02:54<02:27,  1.55it/s]\u001b[A\n",
      "Epoch 1:  54%|█████▍    | 267/494 [02:55<02:26,  1.55it/s]\u001b[A\n",
      "Epoch 1:  54%|█████▍    | 268/494 [02:55<02:26,  1.55it/s]\u001b[A\n",
      "Epoch 1:  54%|█████▍    | 269/494 [02:56<02:25,  1.55it/s]\u001b[A\n",
      "Epoch 1:  55%|█████▍    | 270/494 [02:57<02:24,  1.55it/s]\u001b[A\n",
      "Epoch 1:  55%|█████▍    | 271/494 [02:57<02:24,  1.54it/s]\u001b[A\n",
      "Epoch 1:  55%|█████▌    | 272/494 [02:58<02:23,  1.54it/s]\u001b[A\n",
      "Epoch 1:  55%|█████▌    | 273/494 [02:59<02:23,  1.54it/s]\u001b[A\n",
      "Epoch 1:  55%|█████▌    | 274/494 [02:59<02:22,  1.54it/s]\u001b[A\n",
      "Epoch 1:  56%|█████▌    | 275/494 [03:00<02:21,  1.55it/s]\u001b[A\n",
      "Epoch 1:  56%|█████▌    | 276/494 [03:01<02:21,  1.55it/s]\u001b[A\n",
      "Epoch 1:  56%|█████▌    | 277/494 [03:01<02:19,  1.55it/s]\u001b[A\n",
      "Epoch 1:  56%|█████▋    | 278/494 [03:02<02:19,  1.55it/s]\u001b[A\n",
      "Epoch 1:  56%|█████▋    | 279/494 [03:02<02:19,  1.54it/s]\u001b[A\n",
      "Epoch 1:  57%|█████▋    | 280/494 [03:03<02:18,  1.55it/s]\u001b[A\n",
      "Epoch 1:  57%|█████▋    | 281/494 [03:04<02:17,  1.55it/s]\u001b[A\n",
      "Epoch 1:  57%|█████▋    | 282/494 [03:04<02:16,  1.55it/s]\u001b[A\n",
      "Epoch 1:  57%|█████▋    | 283/494 [03:05<02:15,  1.56it/s]\u001b[A\n",
      "Epoch 1:  57%|█████▋    | 284/494 [03:06<02:15,  1.55it/s]\u001b[A\n",
      "Epoch 1:  58%|█████▊    | 285/494 [03:06<02:14,  1.55it/s]\u001b[A\n",
      "Epoch 1:  58%|█████▊    | 286/494 [03:07<02:14,  1.55it/s]\u001b[A\n",
      "Epoch 1:  58%|█████▊    | 287/494 [03:08<02:13,  1.55it/s]\u001b[A\n",
      "Epoch 1:  58%|█████▊    | 288/494 [03:08<02:12,  1.56it/s]\u001b[A\n",
      "Epoch 1:  59%|█████▊    | 289/494 [03:09<02:11,  1.56it/s]\u001b[A\n",
      "Epoch 1:  59%|█████▊    | 290/494 [03:10<02:10,  1.56it/s]\u001b[A\n",
      "Epoch 1:  59%|█████▉    | 291/494 [03:10<02:10,  1.56it/s]\u001b[A\n",
      "Epoch 1:  59%|█████▉    | 292/494 [03:11<02:09,  1.56it/s]\u001b[A\n",
      "Epoch 1:  59%|█████▉    | 293/494 [03:11<02:09,  1.55it/s]\u001b[A\n",
      "Epoch 1:  60%|█████▉    | 294/494 [03:12<02:09,  1.55it/s]\u001b[A\n",
      "Epoch 1:  60%|█████▉    | 295/494 [03:13<02:08,  1.55it/s]\u001b[A\n",
      "Epoch 1:  60%|█████▉    | 296/494 [03:13<02:07,  1.55it/s]\u001b[A\n",
      "Epoch 1:  60%|██████    | 297/494 [03:14<02:07,  1.55it/s]\u001b[A\n",
      "Epoch 1:  60%|██████    | 298/494 [03:15<02:06,  1.55it/s]\u001b[A\n",
      "Epoch 1:  61%|██████    | 299/494 [03:15<02:05,  1.55it/s]\u001b[A\n",
      "Epoch 1:  61%|██████    | 300/494 [03:16<02:04,  1.55it/s]\u001b[A\n",
      "Epoch 1:  61%|██████    | 301/494 [03:17<02:04,  1.55it/s]\u001b[A\n",
      "Epoch 1:  61%|██████    | 302/494 [03:17<02:04,  1.55it/s]\u001b[A\n",
      "Epoch 1:  61%|██████▏   | 303/494 [03:18<02:03,  1.55it/s]\u001b[A\n",
      "Epoch 1:  62%|██████▏   | 304/494 [03:19<02:03,  1.54it/s]\u001b[A\n",
      "Epoch 1:  62%|██████▏   | 305/494 [03:19<02:01,  1.55it/s]\u001b[A\n",
      "Epoch 1:  62%|██████▏   | 306/494 [03:20<02:01,  1.55it/s]\u001b[A\n",
      "Epoch 1:  62%|██████▏   | 307/494 [03:21<02:00,  1.55it/s]\u001b[A\n",
      "Epoch 1:  62%|██████▏   | 308/494 [03:21<02:00,  1.55it/s]\u001b[A\n",
      "Epoch 1:  63%|██████▎   | 309/494 [03:22<01:59,  1.55it/s]\u001b[A\n",
      "Epoch 1:  63%|██████▎   | 310/494 [03:22<01:58,  1.55it/s]\u001b[A\n",
      "Epoch 1:  63%|██████▎   | 311/494 [03:23<01:58,  1.54it/s]\u001b[A\n",
      "Epoch 1:  63%|██████▎   | 312/494 [03:24<01:57,  1.55it/s]\u001b[A\n",
      "Epoch 1:  63%|██████▎   | 313/494 [03:24<01:58,  1.53it/s]\u001b[A\n",
      "Epoch 1:  64%|██████▎   | 314/494 [03:25<01:57,  1.54it/s]\u001b[A\n",
      "Epoch 1:  64%|██████▍   | 315/494 [03:26<01:56,  1.54it/s]\u001b[A\n",
      "Epoch 1:  64%|██████▍   | 316/494 [03:26<01:55,  1.54it/s]\u001b[A\n",
      "Epoch 1:  64%|██████▍   | 317/494 [03:27<01:54,  1.54it/s]\u001b[A\n",
      "Epoch 1:  64%|██████▍   | 318/494 [03:28<01:54,  1.54it/s]\u001b[A\n",
      "Epoch 1:  65%|██████▍   | 319/494 [03:28<01:53,  1.54it/s]\u001b[A\n",
      "Epoch 1:  65%|██████▍   | 320/494 [03:29<01:53,  1.54it/s]\u001b[A\n",
      "Epoch 1:  65%|██████▍   | 321/494 [03:30<01:52,  1.54it/s]\u001b[A\n",
      "Epoch 1:  65%|██████▌   | 322/494 [03:30<01:51,  1.55it/s]\u001b[A\n",
      "Epoch 1:  65%|██████▌   | 323/494 [03:31<01:50,  1.55it/s]\u001b[A\n",
      "Epoch 1:  66%|██████▌   | 324/494 [03:32<01:49,  1.55it/s]\u001b[A\n",
      "Epoch 1:  66%|██████▌   | 325/494 [03:32<01:48,  1.55it/s]\u001b[A\n",
      "Epoch 1:  66%|██████▌   | 326/494 [03:33<01:48,  1.55it/s]\u001b[A\n",
      "Epoch 1:  66%|██████▌   | 327/494 [03:33<01:48,  1.55it/s]\u001b[A\n",
      "Epoch 1:  66%|██████▋   | 328/494 [03:34<01:47,  1.54it/s]\u001b[A\n",
      "Epoch 1:  67%|██████▋   | 329/494 [03:35<01:46,  1.55it/s]\u001b[A\n",
      "Epoch 1:  67%|██████▋   | 330/494 [03:35<01:45,  1.55it/s]\u001b[A\n",
      "Epoch 1:  67%|██████▋   | 331/494 [03:36<01:44,  1.56it/s]\u001b[A\n",
      "Epoch 1:  67%|██████▋   | 332/494 [03:37<01:44,  1.55it/s]\u001b[A\n",
      "Epoch 1:  67%|██████▋   | 333/494 [03:37<01:43,  1.55it/s]\u001b[A\n",
      "Epoch 1:  68%|██████▊   | 334/494 [03:38<01:43,  1.55it/s]\u001b[A\n",
      "Epoch 1:  68%|██████▊   | 335/494 [03:39<01:42,  1.55it/s]\u001b[A\n",
      "Epoch 1:  68%|██████▊   | 336/494 [03:39<01:42,  1.55it/s]\u001b[A\n",
      "Epoch 1:  68%|██████▊   | 337/494 [03:40<01:41,  1.55it/s]\u001b[A\n",
      "Epoch 1:  68%|██████▊   | 338/494 [03:41<01:40,  1.55it/s]\u001b[A\n",
      "Epoch 1:  69%|██████▊   | 339/494 [03:41<01:39,  1.55it/s]\u001b[A\n",
      "Epoch 1:  69%|██████▉   | 340/494 [03:42<01:38,  1.56it/s]\u001b[A\n",
      "Epoch 1:  69%|██████▉   | 341/494 [03:42<01:38,  1.55it/s]\u001b[A\n",
      "Epoch 1:  69%|██████▉   | 342/494 [03:43<01:37,  1.55it/s]\u001b[A\n",
      "Epoch 1:  69%|██████▉   | 343/494 [03:44<01:37,  1.55it/s]\u001b[A\n",
      "Epoch 1:  70%|██████▉   | 344/494 [03:44<01:36,  1.55it/s]\u001b[A\n",
      "Epoch 1:  70%|██████▉   | 345/494 [03:45<01:35,  1.55it/s]\u001b[A\n",
      "Epoch 1:  70%|███████   | 346/494 [03:46<01:35,  1.55it/s]\u001b[A\n",
      "Epoch 1:  70%|███████   | 347/494 [03:46<01:34,  1.55it/s]\u001b[A\n",
      "Epoch 1:  70%|███████   | 348/494 [03:47<01:33,  1.55it/s]\u001b[A\n",
      "Epoch 1:  71%|███████   | 349/494 [03:48<01:33,  1.56it/s]\u001b[A\n",
      "Epoch 1:  71%|███████   | 350/494 [03:48<01:32,  1.55it/s]\u001b[A\n",
      "Epoch 1:  71%|███████   | 351/494 [03:49<01:32,  1.55it/s]\u001b[A\n",
      "Epoch 1:  71%|███████▏  | 352/494 [03:50<01:31,  1.55it/s]\u001b[A\n",
      "Epoch 1:  71%|███████▏  | 353/494 [03:50<01:30,  1.55it/s]\u001b[A\n",
      "Epoch 1:  72%|███████▏  | 354/494 [03:51<01:30,  1.55it/s]\u001b[A\n",
      "Epoch 1:  72%|███████▏  | 355/494 [03:52<01:29,  1.55it/s]\u001b[A\n",
      "Epoch 1:  72%|███████▏  | 356/494 [03:52<01:29,  1.55it/s]\u001b[A\n",
      "Epoch 1:  72%|███████▏  | 357/494 [03:53<01:28,  1.55it/s]\u001b[A\n",
      "Epoch 1:  72%|███████▏  | 358/494 [03:53<01:28,  1.54it/s]\u001b[A\n",
      "Epoch 1:  73%|███████▎  | 359/494 [03:54<01:27,  1.54it/s]\u001b[A\n",
      "Epoch 1:  73%|███████▎  | 360/494 [03:55<01:27,  1.53it/s]\u001b[A\n",
      "Epoch 1:  73%|███████▎  | 361/494 [03:55<01:26,  1.54it/s]\u001b[A\n",
      "Epoch 1:  73%|███████▎  | 362/494 [03:56<01:25,  1.55it/s]\u001b[A\n",
      "Epoch 1:  73%|███████▎  | 363/494 [03:57<01:24,  1.55it/s]\u001b[A\n",
      "Epoch 1:  74%|███████▎  | 364/494 [03:57<01:23,  1.55it/s]\u001b[A\n",
      "Epoch 1:  74%|███████▍  | 365/494 [03:58<01:23,  1.55it/s]\u001b[A\n",
      "Epoch 1:  74%|███████▍  | 366/494 [03:59<01:22,  1.55it/s]\u001b[A\n",
      "Epoch 1:  74%|███████▍  | 367/494 [03:59<01:22,  1.55it/s]\u001b[A\n",
      "Epoch 1:  74%|███████▍  | 368/494 [04:00<01:21,  1.54it/s]\u001b[A\n",
      "Epoch 1:  75%|███████▍  | 369/494 [04:01<01:21,  1.54it/s]\u001b[A\n",
      "Epoch 1:  75%|███████▍  | 370/494 [04:01<01:20,  1.53it/s]\u001b[A\n",
      "Epoch 1:  75%|███████▌  | 371/494 [04:02<01:20,  1.53it/s]\u001b[A\n",
      "Epoch 1:  75%|███████▌  | 372/494 [04:03<01:19,  1.54it/s]\u001b[A\n",
      "Epoch 1:  76%|███████▌  | 373/494 [04:03<01:18,  1.55it/s]\u001b[A\n",
      "Epoch 1:  76%|███████▌  | 374/494 [04:04<01:17,  1.55it/s]\u001b[A\n",
      "Epoch 1:  76%|███████▌  | 375/494 [04:04<01:17,  1.54it/s]\u001b[A\n",
      "Epoch 1:  76%|███████▌  | 376/494 [04:05<01:16,  1.55it/s]\u001b[A\n",
      "Epoch 1:  76%|███████▋  | 377/494 [04:06<01:15,  1.55it/s]\u001b[A\n",
      "Epoch 1:  77%|███████▋  | 378/494 [04:06<01:14,  1.55it/s]\u001b[A\n",
      "Epoch 1:  77%|███████▋  | 379/494 [04:07<01:14,  1.55it/s]\u001b[A\n",
      "Epoch 1:  77%|███████▋  | 380/494 [04:08<01:13,  1.55it/s]\u001b[A\n",
      "Epoch 1:  77%|███████▋  | 381/494 [04:08<01:12,  1.55it/s]\u001b[A\n",
      "Epoch 1:  77%|███████▋  | 382/494 [04:09<01:12,  1.55it/s]\u001b[A\n",
      "Epoch 1:  78%|███████▊  | 383/494 [04:10<01:11,  1.55it/s]\u001b[A\n",
      "Epoch 1:  78%|███████▊  | 384/494 [04:10<01:11,  1.55it/s]\u001b[A\n",
      "Epoch 1:  78%|███████▊  | 385/494 [04:11<01:10,  1.55it/s]\u001b[A\n",
      "Epoch 1:  78%|███████▊  | 386/494 [04:12<01:09,  1.55it/s]\u001b[A\n",
      "Epoch 1:  78%|███████▊  | 387/494 [04:12<01:08,  1.55it/s]\u001b[A\n",
      "Epoch 1:  79%|███████▊  | 388/494 [04:13<01:08,  1.55it/s]\u001b[A\n",
      "Epoch 1:  79%|███████▊  | 389/494 [04:14<01:07,  1.55it/s]\u001b[A\n",
      "Epoch 1:  79%|███████▉  | 390/494 [04:14<01:07,  1.54it/s]\u001b[A\n",
      "Epoch 1:  79%|███████▉  | 391/494 [04:15<01:06,  1.54it/s]\u001b[A\n",
      "Epoch 1:  79%|███████▉  | 392/494 [04:15<01:06,  1.54it/s]\u001b[A\n",
      "Epoch 1:  80%|███████▉  | 393/494 [04:16<01:05,  1.54it/s]\u001b[A\n",
      "Epoch 1:  80%|███████▉  | 394/494 [04:17<01:04,  1.55it/s]\u001b[A\n",
      "Epoch 1:  80%|███████▉  | 395/494 [04:17<01:04,  1.54it/s]\u001b[A\n",
      "Epoch 1:  80%|████████  | 396/494 [04:18<01:03,  1.54it/s]\u001b[A\n",
      "Epoch 1:  80%|████████  | 397/494 [04:19<01:02,  1.55it/s]\u001b[A\n",
      "Epoch 1:  81%|████████  | 398/494 [04:19<01:02,  1.54it/s]\u001b[A\n",
      "Epoch 1:  81%|████████  | 399/494 [04:20<01:01,  1.55it/s]\u001b[A\n",
      "Epoch 1:  81%|████████  | 400/494 [04:21<01:00,  1.55it/s]\u001b[A\n",
      "Epoch 1:  81%|████████  | 401/494 [04:21<01:00,  1.55it/s]\u001b[A\n",
      "Epoch 1:  81%|████████▏ | 402/494 [04:22<00:59,  1.54it/s]\u001b[A\n",
      "Epoch 1:  82%|████████▏ | 403/494 [04:23<00:59,  1.54it/s]\u001b[A\n",
      "Epoch 1:  82%|████████▏ | 404/494 [04:23<00:58,  1.54it/s]\u001b[A\n",
      "Epoch 1:  82%|████████▏ | 405/494 [04:24<00:57,  1.54it/s]\u001b[A\n",
      "Epoch 1:  82%|████████▏ | 406/494 [04:25<00:56,  1.55it/s]\u001b[A\n",
      "Epoch 1:  82%|████████▏ | 407/494 [04:25<00:56,  1.55it/s]\u001b[A\n",
      "Epoch 1:  83%|████████▎ | 408/494 [04:26<00:55,  1.55it/s]\u001b[A\n",
      "Epoch 1:  83%|████████▎ | 409/494 [04:26<00:54,  1.55it/s]\u001b[A\n",
      "Epoch 1:  83%|████████▎ | 410/494 [04:27<00:54,  1.54it/s]\u001b[A\n",
      "Epoch 1:  83%|████████▎ | 411/494 [04:28<00:53,  1.54it/s]\u001b[A\n",
      "Epoch 1:  83%|████████▎ | 412/494 [04:28<00:52,  1.55it/s]\u001b[A\n",
      "Epoch 1:  84%|████████▎ | 413/494 [04:29<00:52,  1.55it/s]\u001b[A\n",
      "Epoch 1:  84%|████████▍ | 414/494 [04:30<00:51,  1.55it/s]\u001b[A\n",
      "Epoch 1:  84%|████████▍ | 415/494 [04:30<00:50,  1.55it/s]\u001b[A\n",
      "Epoch 1:  84%|████████▍ | 416/494 [04:31<00:50,  1.54it/s]\u001b[A\n",
      "Epoch 1:  84%|████████▍ | 417/494 [04:32<00:49,  1.55it/s]\u001b[A\n",
      "Epoch 1:  85%|████████▍ | 418/494 [04:32<00:49,  1.54it/s]\u001b[A\n",
      "Epoch 1:  85%|████████▍ | 419/494 [04:33<00:48,  1.55it/s]\u001b[A\n",
      "Epoch 1:  85%|████████▌ | 420/494 [04:34<00:47,  1.55it/s]\u001b[A\n",
      "Epoch 1:  85%|████████▌ | 421/494 [04:34<00:47,  1.54it/s]\u001b[A\n",
      "Epoch 1:  85%|████████▌ | 422/494 [04:35<00:46,  1.55it/s]\u001b[A\n",
      "Epoch 1:  86%|████████▌ | 423/494 [04:36<00:45,  1.55it/s]\u001b[A\n",
      "Epoch 1:  86%|████████▌ | 424/494 [04:36<00:45,  1.55it/s]\u001b[A\n",
      "Epoch 1:  86%|████████▌ | 425/494 [04:37<00:44,  1.55it/s]\u001b[A\n",
      "Epoch 1:  86%|████████▌ | 426/494 [04:37<00:43,  1.55it/s]\u001b[A\n",
      "Epoch 1:  86%|████████▋ | 427/494 [04:38<00:43,  1.55it/s]\u001b[A\n",
      "Epoch 1:  87%|████████▋ | 428/494 [04:39<00:42,  1.55it/s]\u001b[A\n",
      "Epoch 1:  87%|████████▋ | 429/494 [04:39<00:41,  1.55it/s]\u001b[A\n",
      "Epoch 1:  87%|████████▋ | 430/494 [04:40<00:41,  1.55it/s]\u001b[A\n",
      "Epoch 1:  87%|████████▋ | 431/494 [04:41<00:40,  1.55it/s]\u001b[A\n",
      "Epoch 1:  87%|████████▋ | 432/494 [04:41<00:40,  1.55it/s]\u001b[A\n",
      "Epoch 1:  88%|████████▊ | 433/494 [04:42<00:39,  1.55it/s]\u001b[A\n",
      "Epoch 1:  88%|████████▊ | 434/494 [04:43<00:38,  1.55it/s]\u001b[A\n",
      "Epoch 1:  88%|████████▊ | 435/494 [04:43<00:38,  1.54it/s]\u001b[A\n",
      "Epoch 1:  88%|████████▊ | 436/494 [04:44<00:37,  1.54it/s]\u001b[A\n",
      "Epoch 1:  88%|████████▊ | 437/494 [04:45<00:36,  1.54it/s]\u001b[A\n",
      "Epoch 1:  89%|████████▊ | 438/494 [04:45<00:36,  1.54it/s]\u001b[A\n",
      "Epoch 1:  89%|████████▉ | 439/494 [04:46<00:35,  1.54it/s]\u001b[A\n",
      "Epoch 1:  89%|████████▉ | 440/494 [04:47<00:34,  1.55it/s]\u001b[A\n",
      "Epoch 1:  89%|████████▉ | 441/494 [04:47<00:34,  1.54it/s]\u001b[A\n",
      "Epoch 1:  89%|████████▉ | 442/494 [04:48<00:33,  1.55it/s]\u001b[A\n",
      "Epoch 1:  90%|████████▉ | 443/494 [04:48<00:33,  1.54it/s]\u001b[A\n",
      "Epoch 1:  90%|████████▉ | 444/494 [04:49<00:32,  1.54it/s]\u001b[A\n",
      "Epoch 1:  90%|█████████ | 445/494 [04:50<00:31,  1.54it/s]\u001b[A\n",
      "Epoch 1:  90%|█████████ | 446/494 [04:50<00:31,  1.54it/s]\u001b[A\n",
      "Epoch 1:  90%|█████████ | 447/494 [04:51<00:30,  1.54it/s]\u001b[A\n",
      "Epoch 1:  91%|█████████ | 448/494 [04:52<00:29,  1.54it/s]\u001b[A\n",
      "Epoch 1:  91%|█████████ | 449/494 [04:52<00:29,  1.55it/s]\u001b[A\n",
      "Epoch 1:  91%|█████████ | 450/494 [04:53<00:28,  1.54it/s]\u001b[A\n",
      "Epoch 1:  91%|█████████▏| 451/494 [04:54<00:27,  1.55it/s]\u001b[A\n",
      "Epoch 1:  91%|█████████▏| 452/494 [04:54<00:27,  1.55it/s]\u001b[A\n",
      "Epoch 1:  92%|█████████▏| 453/494 [04:55<00:26,  1.54it/s]\u001b[A\n",
      "Epoch 1:  92%|█████████▏| 454/494 [04:56<00:25,  1.54it/s]\u001b[A\n",
      "Epoch 1:  92%|█████████▏| 455/494 [04:56<00:25,  1.54it/s]\u001b[A\n",
      "Epoch 1:  92%|█████████▏| 456/494 [04:57<00:24,  1.55it/s]\u001b[A\n",
      "Epoch 1:  93%|█████████▎| 457/494 [04:58<00:23,  1.55it/s]\u001b[A\n",
      "Epoch 1:  93%|█████████▎| 458/494 [04:58<00:23,  1.55it/s]\u001b[A\n",
      "Epoch 1:  93%|█████████▎| 459/494 [04:59<00:22,  1.55it/s]\u001b[A\n",
      "Epoch 1:  93%|█████████▎| 460/494 [04:59<00:21,  1.55it/s]\u001b[A\n",
      "Epoch 1:  93%|█████████▎| 461/494 [05:00<00:21,  1.55it/s]\u001b[A\n",
      "Epoch 1:  94%|█████████▎| 462/494 [05:01<00:20,  1.54it/s]\u001b[A\n",
      "Epoch 1:  94%|█████████▎| 463/494 [05:01<00:20,  1.54it/s]\u001b[A\n",
      "Epoch 1:  94%|█████████▍| 464/494 [05:02<00:19,  1.55it/s]\u001b[A\n",
      "Epoch 1:  94%|█████████▍| 465/494 [05:03<00:18,  1.55it/s]\u001b[A\n",
      "Epoch 1:  94%|█████████▍| 466/494 [05:03<00:18,  1.55it/s]\u001b[A\n",
      "Epoch 1:  95%|█████████▍| 467/494 [05:04<00:17,  1.55it/s]\u001b[A\n",
      "Epoch 1:  95%|█████████▍| 468/494 [05:05<00:16,  1.54it/s]\u001b[A\n",
      "Epoch 1:  95%|█████████▍| 469/494 [05:05<00:16,  1.55it/s]\u001b[A\n",
      "Epoch 1:  95%|█████████▌| 470/494 [05:06<00:15,  1.54it/s]\u001b[A\n",
      "Epoch 1:  95%|█████████▌| 471/494 [05:07<00:14,  1.54it/s]\u001b[A\n",
      "Epoch 1:  96%|█████████▌| 472/494 [05:07<00:14,  1.55it/s]\u001b[A\n",
      "Epoch 1:  96%|█████████▌| 473/494 [05:08<00:13,  1.55it/s]\u001b[A\n",
      "Epoch 1:  96%|█████████▌| 474/494 [05:09<00:12,  1.55it/s]\u001b[A\n",
      "Epoch 1:  96%|█████████▌| 475/494 [05:09<00:12,  1.56it/s]\u001b[A\n",
      "Epoch 1:  96%|█████████▋| 476/494 [05:10<00:11,  1.56it/s]\u001b[A\n",
      "Epoch 1:  97%|█████████▋| 477/494 [05:10<00:10,  1.56it/s]\u001b[A\n",
      "Epoch 1:  97%|█████████▋| 478/494 [05:11<00:10,  1.55it/s]\u001b[A\n",
      "Epoch 1:  97%|█████████▋| 479/494 [05:12<00:09,  1.55it/s]\u001b[A\n",
      "Epoch 1:  97%|█████████▋| 480/494 [05:12<00:09,  1.55it/s]\u001b[A\n",
      "Epoch 1:  97%|█████████▋| 481/494 [05:13<00:08,  1.55it/s]\u001b[A\n",
      "Epoch 1:  98%|█████████▊| 482/494 [05:14<00:07,  1.55it/s]\u001b[A\n",
      "Epoch 1:  98%|█████████▊| 483/494 [05:14<00:07,  1.55it/s]\u001b[A\n",
      "Epoch 1:  98%|█████████▊| 484/494 [05:15<00:06,  1.55it/s]\u001b[A\n",
      "Epoch 1:  98%|█████████▊| 485/494 [05:16<00:05,  1.55it/s]\u001b[A\n",
      "Epoch 1:  98%|█████████▊| 486/494 [05:16<00:05,  1.55it/s]\u001b[A\n",
      "Epoch 1:  99%|█████████▊| 487/494 [05:17<00:04,  1.55it/s]\u001b[A\n",
      "Epoch 1:  99%|█████████▉| 488/494 [05:18<00:03,  1.55it/s]\u001b[A\n",
      "Epoch 1:  99%|█████████▉| 489/494 [05:18<00:03,  1.55it/s]\u001b[A\n",
      "Epoch 1:  99%|█████████▉| 490/494 [05:19<00:02,  1.55it/s]\u001b[A\n",
      "Epoch 1:  99%|█████████▉| 491/494 [05:19<00:01,  1.55it/s]\u001b[A\n",
      "Epoch 1: 100%|█████████▉| 492/494 [05:20<00:01,  1.54it/s]\u001b[A\n",
      "Epoch 1: 100%|█████████▉| 493/494 [05:21<00:00,  1.55it/s]\u001b[A\n",
      "Epoch 1: 100%|██████████| 494/494 [05:21<00:00,  1.53it/s]\n"
     ]
    },
    {
     "name": "stdout",
     "output_type": "stream",
     "text": [
      "\n",
      "Epoch 1:\n",
      "  Training Loss: 0.7708 | Accuracy: 0.6979\n",
      "  Test Loss:     0.3988 | Accuracy: 0.8500\n"
     ]
    },
    {
     "name": "stderr",
     "output_type": "stream",
     "text": [
      "Epoch 2: 100%|██████████| 494/494 [05:18<00:00,  1.55it/s]\n"
     ]
    },
    {
     "name": "stdout",
     "output_type": "stream",
     "text": [
      "\n",
      "Epoch 2:\n",
      "  Training Loss: 0.3498 | Accuracy: 0.8744\n",
      "  Test Loss:     0.3406 | Accuracy: 0.8776\n"
     ]
    },
    {
     "name": "stderr",
     "output_type": "stream",
     "text": [
      "Epoch 3: 100%|██████████| 494/494 [05:18<00:00,  1.55it/s]\n"
     ]
    },
    {
     "name": "stdout",
     "output_type": "stream",
     "text": [
      "\n",
      "Epoch 3:\n",
      "  Training Loss: 0.2572 | Accuracy: 0.9088\n",
      "  Test Loss:     0.3584 | Accuracy: 0.8774\n"
     ]
    },
    {
     "name": "stderr",
     "output_type": "stream",
     "text": [
      "Epoch 4: 100%|██████████| 494/494 [05:17<00:00,  1.55it/s]\n"
     ]
    },
    {
     "name": "stdout",
     "output_type": "stream",
     "text": [
      "\n",
      "Epoch 4:\n",
      "  Training Loss: 0.1805 | Accuracy: 0.9379\n",
      "  Test Loss:     0.3787 | Accuracy: 0.8743\n",
      "\n",
      "Early stopping at epoch 4!\n"
     ]
    },
    {
     "data": {
      "text/plain": [
       "<All keys matched successfully>"
      ]
     },
     "execution_count": 47,
     "metadata": {},
     "output_type": "execute_result"
    }
   ],
   "source": [
    "# Obtém o número de classes únicas no conjunto de treinamento\n",
    "num_classes = len(df_train['categoria'].unique())\n",
    "\n",
    "# Configurações de treinamento\n",
    "batch_size = 32\n",
    "learning_rate = 5e-5\n",
    "num_epochs = 10\n",
    "\n",
    "# Carrega o modelo BERT com dropout personalizado\n",
    "model = BertForSequenceClassification.from_pretrained(\n",
    "    'neuralmind/bert-base-portuguese-cased',\n",
    "    num_labels=len(label_encoder.classes_),\n",
    "    classifier_dropout=0.2,\n",
    "    hidden_dropout_prob=0.2\n",
    ")\n",
    "\n",
    "# Atualiza tamanho do vocabulário para incluir [INST]\n",
    "model.resize_token_embeddings(len(tokenizer))\n",
    "\n",
    "# Define o otimizador com weight decay\n",
    "optimizer = AdamW(model.parameters(), lr=learning_rate, weight_decay=0.01)\n",
    "\n",
    "# Prepara o scheduler de taxa de aprendizado com warmup\n",
    "train_loader = DataLoader(train_tensor, batch_size=batch_size, shuffle=True)\n",
    "test_loader = DataLoader(test_tensor, batch_size=batch_size, shuffle=False)\n",
    "total_steps = len(train_loader) * num_epochs\n",
    "warmup_steps = int(0.1 * total_steps)\n",
    "scheduler = get_linear_schedule_with_warmup(\n",
    "    optimizer,\n",
    "    num_warmup_steps=warmup_steps,\n",
    "    num_training_steps=total_steps\n",
    ")\n",
    "\n",
    "# Configura o Early Stopping\n",
    "best_test_loss = float('inf')\n",
    "patience = 2\n",
    "trigger_times = 0\n",
    "\n",
    "# Move o modelo para GPU se disponível\n",
    "model.to(device)\n",
    "\n",
    "# Loop de treinamento\n",
    "for epoch in range(num_epochs):\n",
    "    model.train()\n",
    "    total_train_loss = 0.0\n",
    "    correct_predictions = 0\n",
    "    total_samples = 0\n",
    "\n",
    "    for batch in tqdm(train_loader, desc=f\"Epoch {epoch + 1}\"):\n",
    "        input_ids, attention_mask, labels = batch\n",
    "        input_ids, attention_mask, labels = input_ids.to(device), attention_mask.to(device), labels.to(device)\n",
    "\n",
    "        # Zera os gradientes antes da retropropagação\n",
    "        optimizer.zero_grad()\n",
    "\n",
    "        # Passagem para frente no modelo\n",
    "        outputs = model(input_ids, attention_mask=attention_mask, labels=labels)\n",
    "        loss = outputs.loss\n",
    "        loss.backward()\n",
    "        optimizer.step()\n",
    "        scheduler.step()\n",
    "\n",
    "        total_train_loss += loss.item()\n",
    "        _, preds = torch.max(outputs.logits, dim=1)\n",
    "        correct_predictions += torch.sum(preds == labels).item()\n",
    "        total_samples += labels.size(0)\n",
    "\n",
    "    # Cálculo das métricas de treino\n",
    "    avg_train_loss = total_train_loss / len(train_loader)\n",
    "    train_accuracy = correct_predictions / total_samples\n",
    "\n",
    "    # Validação\n",
    "    model.eval()\n",
    "    total_test_loss = 0.0\n",
    "    correct_test_predictions = 0\n",
    "    with torch.no_grad():\n",
    "        for batch in test_loader:\n",
    "            input_ids, attention_mask, labels = batch\n",
    "            input_ids, attention_mask, labels = input_ids.to(device), attention_mask.to(device), labels.to(device)\n",
    "            outputs = model(input_ids, attention_mask=attention_mask, labels=labels)\n",
    "            loss = outputs.loss\n",
    "            total_test_loss += loss.item()\n",
    "            _, preds = torch.max(outputs.logits, dim=1)\n",
    "            correct_test_predictions += torch.sum(preds == labels).item()\n",
    "\n",
    "    # Métricas de validação\n",
    "    avg_test_loss = total_test_loss / len(test_loader)\n",
    "    test_accuracy = correct_test_predictions / len(test_tensor)\n",
    "\n",
    "    print(f\"\\nEpoch {epoch + 1}:\")\n",
    "    print(f\"  Training Loss: {avg_train_loss:.4f} | Accuracy: {train_accuracy:.4f}\")\n",
    "    print(f\"  Test Loss:     {avg_test_loss:.4f} | Accuracy: {test_accuracy:.4f}\")\n",
    "\n",
    "    # Verificação de early stopping\n",
    "    if avg_test_loss < best_test_loss:\n",
    "        best_test_loss = avg_test_loss\n",
    "        trigger_times = 0\n",
    "        torch.save(model.state_dict(), 'best_model.pt')\n",
    "    else:\n",
    "        trigger_times += 1\n",
    "        if trigger_times >= patience:\n",
    "            print(f\"\\nEarly stopping at epoch {epoch + 1}!\")\n",
    "            break\n",
    "\n",
    "# Carrega o melhor modelo após o treinamento\n",
    "model.load_state_dict(torch.load('best_model.pt'))"
   ]
  },
  {
   "cell_type": "code",
   "execution_count": 48,
   "metadata": {
    "colab": {
     "base_uri": "https://localhost:8080/"
    },
    "executionInfo": {
     "elapsed": 34831,
     "status": "ok",
     "timestamp": 1743464978620,
     "user": {
      "displayName": "Luiz Henrique Oliveira",
      "userId": "01652462041432361084"
     },
     "user_tz": 180
    },
    "id": "I5jNPezLM-05",
    "outputId": "b6684275-63a8-4e37-e87c-7f96e75c0b60"
   },
   "outputs": [
    {
     "name": "stderr",
     "output_type": "stream",
     "text": [
      "Evaluating: 100%|██████████| 165/165 [00:34<00:00,  4.75it/s]"
     ]
    },
    {
     "name": "stdout",
     "output_type": "stream",
     "text": [
      "\n",
      "                                     precision    recall  f1-score   support\n",
      "\n",
      "Cartão de crédito / Cartão pré-pago       0.88      0.91      0.89      1290\n",
      "            Hipotecas / Empréstimos       0.93      0.86      0.89       922\n",
      "                             Outros       0.81      0.89      0.85       549\n",
      "       Roubo / Relatório de disputa       0.89      0.82      0.85      1204\n",
      "         Serviços de conta bancária       0.87      0.91      0.89      1303\n",
      "\n",
      "                           accuracy                           0.88      5268\n",
      "                          macro avg       0.87      0.88      0.87      5268\n",
      "                       weighted avg       0.88      0.88      0.88      5268\n",
      "\n",
      "F1 Score: 0.8774628494198892\n"
     ]
    },
    {
     "name": "stderr",
     "output_type": "stream",
     "text": [
      "\n"
     ]
    }
   ],
   "source": [
    "# Coloca o modelo em modo de avaliação\n",
    "model.eval()\n",
    "\n",
    "# Listas para armazenar as previsões e as labels verdadeiras\n",
    "all_predictions = []\n",
    "all_labels = []\n",
    "\n",
    "# Desabilita o cálculo de gradientes para economizar memória e acelerar o processo\n",
    "with torch.no_grad():\n",
    "    for batch in tqdm(test_loader, desc=\"Evaluating\"):\n",
    "        input_ids, attention_mask, labels = batch\n",
    "        input_ids, attention_mask, labels = input_ids.to(device), attention_mask.to(device), labels.to(device)\n",
    "\n",
    "        outputs = model(input_ids, attention_mask=attention_mask)\n",
    "        predictions = torch.argmax(outputs.logits, dim=1)\n",
    "\n",
    "        all_predictions.extend(predictions.cpu().numpy())\n",
    "        all_labels.extend(labels.cpu().numpy())\n",
    "\n",
    "# Inverte a transformação das labels\n",
    "predicted_labels = label_encoder.inverse_transform(all_predictions)\n",
    "true_labels = label_encoder.inverse_transform(all_labels)\n",
    "\n",
    "# Exibe o relatório de classificação\n",
    "print()\n",
    "print(classification_report(true_labels, predicted_labels))\n",
    "\n",
    "# Calcula e imprime o F1 Score ponderado\n",
    "print(\"F1 Score:\", f1_score(true_labels, predicted_labels, average=\"weighted\"))\n"
   ]
  },
  {
   "cell_type": "markdown",
   "metadata": {
    "id": "MTiRnty6xQoV"
   },
   "source": [
    "**Análise das Métricas**:\n",
    "O BERT alcançou um F1 Score bastante alto (87%) e estaria apto para rodar em produção.\n",
    "\n",
    "**Observações importantes:**\n",
    "* A partir da época 3, o modelo apresenta sinais de overfitting, mesmo com AdamW e learning rate com warmup.\n",
    "* O early stopping endereça esse problema, salvando o melhor modelo.\n",
    "* O tamanho do dataset atual pode estar limitando o potencial do BERT.\n",
    "\n",
    "Embora o BERT tenha apresentado um bom desempenho, os sinais de overfitting indicam que o modelo poderia se beneficiar de um conjunto de dados maior – seja através da coleta de novas amostras ou de técnicas de aumento artificial de dados."
   ]
  },
  {
   "cell_type": "markdown",
   "metadata": {
    "id": "4lTSSazKHxYH"
   },
   "source": [
    "### **Testando o Skip-gram**\n",
    "\n",
    "Para avaliar a qualidade dos embeddings gerados pelo Skip-gram, comparei quatro modelos de classificação com diferentes abordagens:\n",
    "\n",
    "- Regressão Logística\n",
    "- Random Forest\n",
    "- XGBoost\n",
    "- SVM\n",
    "\n",
    "A escolha desses modelos busca testar diferentes abordagens, incluindo modelos simples (Regressão Logística), ensemble (Random Forest e XGBoost) e métodos baseados em kernels (SVM), com o objetivo de encontrar o melhor desempenho utilizando o mínimo de recursos computacionais."
   ]
  },
  {
   "cell_type": "code",
   "execution_count": 49,
   "metadata": {
    "colab": {
     "base_uri": "https://localhost:8080/"
    },
    "executionInfo": {
     "elapsed": 161696,
     "status": "ok",
     "timestamp": 1743465140321,
     "user": {
      "displayName": "Luiz Henrique Oliveira",
      "userId": "01652462041432361084"
     },
     "user_tz": 180
    },
    "id": "tVCCF3HqXRrn",
    "outputId": "80803972-8864-4c01-f42d-67e0c2906961"
   },
   "outputs": [
    {
     "name": "stderr",
     "output_type": "stream",
     "text": [
      "/usr/local/lib/python3.11/dist-packages/sklearn/linear_model/_logistic.py:465: ConvergenceWarning: lbfgs failed to converge (status=1):\n",
      "STOP: TOTAL NO. of ITERATIONS REACHED LIMIT.\n",
      "\n",
      "Increase the number of iterations (max_iter) or scale the data as shown in:\n",
      "    https://scikit-learn.org/stable/modules/preprocessing.html\n",
      "Please also refer to the documentation for alternative solver options:\n",
      "    https://scikit-learn.org/stable/modules/linear_model.html#logistic-regression\n",
      "  n_iter_i = _check_optimize_result(\n"
     ]
    },
    {
     "name": "stdout",
     "output_type": "stream",
     "text": [
      "Classification Report de Logistic Regression:\n",
      "              precision    recall  f1-score   support\n",
      "\n",
      "           0       0.87      0.86      0.86      1290\n",
      "           1       0.84      0.88      0.86       922\n",
      "           2       0.84      0.75      0.79       549\n",
      "           3       0.81      0.79      0.80      1204\n",
      "           4       0.84      0.89      0.87      1303\n",
      "\n",
      "    accuracy                           0.84      5268\n",
      "   macro avg       0.84      0.83      0.84      5268\n",
      "weighted avg       0.84      0.84      0.84      5268\n",
      "\n",
      "\n",
      "F1 Score: 0.8416829922536863\n",
      "--------------------------------------------------------------------------------\n",
      "Classification Report de Random Forest:\n",
      "              precision    recall  f1-score   support\n",
      "\n",
      "           0       0.79      0.81      0.80      1290\n",
      "           1       0.75      0.77      0.76       922\n",
      "           2       0.80      0.50      0.61       549\n",
      "           3       0.67      0.71      0.69      1204\n",
      "           4       0.77      0.81      0.79      1303\n",
      "\n",
      "    accuracy                           0.75      5268\n",
      "   macro avg       0.76      0.72      0.73      5268\n",
      "weighted avg       0.75      0.75      0.75      5268\n",
      "\n",
      "\n",
      "F1 Score: 0.7459942476697287\n",
      "--------------------------------------------------------------------------------\n",
      "Classification Report de XGBoost:\n",
      "              precision    recall  f1-score   support\n",
      "\n",
      "           0       0.86      0.86      0.86      1290\n",
      "           1       0.82      0.84      0.83       922\n",
      "           2       0.85      0.72      0.78       549\n",
      "           3       0.79      0.79      0.79      1204\n",
      "           4       0.83      0.87      0.85      1303\n",
      "\n",
      "    accuracy                           0.83      5268\n",
      "   macro avg       0.83      0.82      0.82      5268\n",
      "weighted avg       0.83      0.83      0.83      5268\n",
      "\n",
      "\n",
      "F1 Score: 0.8265549454366903\n",
      "--------------------------------------------------------------------------------\n",
      "Classification Report de SVC Linear:\n",
      "              precision    recall  f1-score   support\n",
      "\n",
      "           0       0.88      0.86      0.87      1290\n",
      "           1       0.85      0.87      0.86       922\n",
      "           2       0.84      0.78      0.81       549\n",
      "           3       0.81      0.81      0.81      1204\n",
      "           4       0.86      0.89      0.88      1303\n",
      "\n",
      "    accuracy                           0.85      5268\n",
      "   macro avg       0.85      0.84      0.84      5268\n",
      "weighted avg       0.85      0.85      0.85      5268\n",
      "\n",
      "\n",
      "F1 Score: 0.8487946787758466\n",
      "--------------------------------------------------------------------------------\n",
      "Classification Report de SVC RBF:\n",
      "              precision    recall  f1-score   support\n",
      "\n",
      "           0       0.87      0.88      0.87      1290\n",
      "           1       0.85      0.87      0.86       922\n",
      "           2       0.85      0.78      0.81       549\n",
      "           3       0.83      0.81      0.82      1204\n",
      "           4       0.87      0.89      0.88      1303\n",
      "\n",
      "    accuracy                           0.85      5268\n",
      "   macro avg       0.85      0.84      0.85      5268\n",
      "weighted avg       0.85      0.85      0.85      5268\n",
      "\n",
      "\n",
      "F1 Score: 0.8519338635982009\n",
      "--------------------------------------------------------------------------------\n"
     ]
    }
   ],
   "source": [
    "# Lista de pipelines contendo os modelos a serem treinados e avaliados\n",
    "pipelines = [\n",
    "    ('Logistic Regression', X_train, y_train, X_test, y_test, LogisticRegression(random_state=seed)),\n",
    "    ('Random Forest', X_train, y_train, X_test, y_test, RandomForestClassifier(random_state=seed)),\n",
    "    ('XGBoost', X_train, y_train, X_test, y_test, xgb.XGBClassifier(random_state=seed)),\n",
    "    ('SVC Linear', X_train, y_train, X_test, y_test, SVC(kernel='linear', random_state=seed)),\n",
    "    ('SVC RBF', X_train, y_train, X_test, y_test, SVC(kernel='rbf', random_state=seed)),\n",
    "\n",
    "]\n",
    "\n",
    "# Itera sobre cada modelo no pipeline, treinando e avaliando\n",
    "for name, X_train, y_train, X_test, y_test, model_skip in pipelines:\n",
    "    model_skip.fit(X_train, y_train)\n",
    "    y_pred = model_skip.predict(X_test)\n",
    "    print(f'Classification Report de {name}:\\n{classification_report(y_test, y_pred)}\\n')\n",
    "    print(\"F1 Score:\", f1_score(y_test, y_pred, average=\"weighted\"))\n",
    "    print(\"-\"*80)"
   ]
  },
  {
   "cell_type": "markdown",
   "metadata": {
    "id": "Z5DnKNS1KHpi"
   },
   "source": [
    "### **Modelo Vencedor: SKIP-GRAM + SVC** 🏆\n",
    "\n",
    "Embora o BERT tenha apresentado um F1-score um pouco superior (87% x 85%), o Skip-gram + SVC foi eleito vencedor por ter um melhor custo-benefício.\n",
    "\n",
    "**Motivos da Escolha:**\n",
    "\n",
    "1. **Eficiência Computacional:**\n",
    " * Skip-Gram é de 50 até 100 vezes mais rápido no treino e de 10 até 50 vezes mais rápido na inferência.\n",
    " * O BERT emite até 50 vezes mais CO2.\n",
    " * Modelos Skip-Gram ocupam de 5 até 10 vezes menos espaço.\n",
    " * O BERT precisa GPU para treinamento.\n",
    " * O BERT consome 10 vezes mais RAM durante o treino e de 15 até 30 vezes mais em inferência.\n",
    "\n",
    "2. **Performance Próxima:**\n",
    " * Diferença de apenas 2 pontos percentuais no F1, compensada pela economia de custos.\n",
    " * O SVC ainda pode ter seu desempenho aprimorado com ajuste de hiperparâmetros (ex: kernel, regularização)."
   ]
  },
  {
   "cell_type": "markdown",
   "metadata": {
    "id": "68SiMjcWqD_m"
   },
   "source": [
    "### 8. **Pipeline Completa do Modelo Vencedor**"
   ]
  },
  {
   "cell_type": "markdown",
   "metadata": {
    "id": "bauNJBjfzfYi"
   },
   "source": [
    "#### **Importação de Bibliotecas**"
   ]
  },
  {
   "cell_type": "code",
   "execution_count": 1,
   "metadata": {
    "colab": {
     "base_uri": "https://localhost:8080/"
    },
    "executionInfo": {
     "elapsed": 4045,
     "status": "ok",
     "timestamp": 1743465273320,
     "user": {
      "displayName": "Luiz Henrique Oliveira",
      "userId": "01652462041432361084"
     },
     "user_tz": 180
    },
    "id": "9acfnZFkjAgd",
    "outputId": "7371cc9b-0b44-46ed-a7c6-1d499465734b"
   },
   "outputs": [
    {
     "name": "stdout",
     "output_type": "stream",
     "text": [
      "Cloning into 'data-science-projects'...\n",
      "remote: Enumerating objects: 9, done.\u001b[K\n",
      "remote: Counting objects: 100% (9/9), done.\u001b[K\n",
      "remote: Compressing objects: 100% (6/6), done.\u001b[K\n",
      "remote: Total 9 (delta 0), reused 6 (delta 0), pack-reused 0 (from 0)\u001b[K\n",
      "Receiving objects: 100% (9/9), 9.93 MiB | 5.22 MiB/s, done.\n"
     ]
    }
   ],
   "source": [
    "!git clone https://github.com/luizh3nriqu3/data-science-projects.git"
   ]
  },
  {
   "cell_type": "code",
   "execution_count": 2,
   "metadata": {
    "colab": {
     "base_uri": "https://localhost:8080/"
    },
    "executionInfo": {
     "elapsed": 151871,
     "status": "ok",
     "timestamp": 1743465425194,
     "user": {
      "displayName": "Luiz Henrique Oliveira",
      "userId": "01652462041432361084"
     },
     "user_tz": 180
    },
    "id": "9iIHhoJYzO5a",
    "outputId": "83855e52-fb0c-45c3-a289-105948f2a05b"
   },
   "outputs": [
    {
     "name": "stdout",
     "output_type": "stream",
     "text": [
      "\u001b[2K     \u001b[90m━━━━━━━━━━━━━━━━━━━━━━━━━━━━━━━━━━━━━━━━\u001b[0m \u001b[32m61.0/61.0 kB\u001b[0m \u001b[31m3.0 MB/s\u001b[0m eta \u001b[36m0:00:00\u001b[0m\n",
      "\u001b[2K     \u001b[90m━━━━━━━━━━━━━━━━━━━━━━━━━━━━━━━━━━━━━━━━\u001b[0m \u001b[32m60.6/60.6 kB\u001b[0m \u001b[31m2.3 MB/s\u001b[0m eta \u001b[36m0:00:00\u001b[0m\n",
      "\u001b[2K   \u001b[90m━━━━━━━━━━━━━━━━━━━━━━━━━━━━━━━━━━━━━━━━\u001b[0m \u001b[32m26.7/26.7 MB\u001b[0m \u001b[31m14.1 MB/s\u001b[0m eta \u001b[36m0:00:00\u001b[0m\n",
      "\u001b[2K   \u001b[90m━━━━━━━━━━━━━━━━━━━━━━━━━━━━━━━━━━━━━━━━\u001b[0m \u001b[32m18.3/18.3 MB\u001b[0m \u001b[31m35.9 MB/s\u001b[0m eta \u001b[36m0:00:00\u001b[0m\n",
      "\u001b[2K   \u001b[90m━━━━━━━━━━━━━━━━━━━━━━━━━━━━━━━━━━━━━━━━\u001b[0m \u001b[32m38.6/38.6 MB\u001b[0m \u001b[31m11.2 MB/s\u001b[0m eta \u001b[36m0:00:00\u001b[0m\n",
      "\u001b[2K     \u001b[90m━━━━━━━━━━━━━━━━━━━━━━━━━━━━━━━━━━━━━━━━\u001b[0m \u001b[32m13.0/13.0 MB\u001b[0m \u001b[31m21.8 MB/s\u001b[0m eta \u001b[36m0:00:00\u001b[0m\n",
      "\u001b[?25h\u001b[38;5;2m✔ Download and installation successful\u001b[0m\n",
      "You can now load the package via spacy.load('pt_core_news_sm')\n",
      "\u001b[38;5;3m⚠ Restart to reload dependencies\u001b[0m\n",
      "If you are in a Jupyter or Colab notebook, you may need to restart Python in\n",
      "order to load all the package's dependencies. You can do this by selecting the\n",
      "'Restart kernel' or 'Restart runtime' option.\n",
      "\u001b[2K   \u001b[90m━━━━━━━━━━━━━━━━━━━━━━━━━━━━━━━━━━━━━━━━\u001b[0m \u001b[32m363.4/363.4 MB\u001b[0m \u001b[31m4.2 MB/s\u001b[0m eta \u001b[36m0:00:00\u001b[0m\n",
      "\u001b[2K   \u001b[90m━━━━━━━━━━━━━━━━━━━━━━━━━━━━━━━━━━━━━━━━\u001b[0m \u001b[32m13.8/13.8 MB\u001b[0m \u001b[31m93.5 MB/s\u001b[0m eta \u001b[36m0:00:00\u001b[0m\n",
      "\u001b[2K   \u001b[90m━━━━━━━━━━━━━━━━━━━━━━━━━━━━━━━━━━━━━━━━\u001b[0m \u001b[32m24.6/24.6 MB\u001b[0m \u001b[31m73.2 MB/s\u001b[0m eta \u001b[36m0:00:00\u001b[0m\n",
      "\u001b[2K   \u001b[90m━━━━━━━━━━━━━━━━━━━━━━━━━━━━━━━━━━━━━━━━\u001b[0m \u001b[32m883.7/883.7 kB\u001b[0m \u001b[31m46.3 MB/s\u001b[0m eta \u001b[36m0:00:00\u001b[0m\n",
      "\u001b[2K   \u001b[90m━━━━━━━━━━━━━━━━━━━━━━━━━━━━━━━━━━━━━━━━\u001b[0m \u001b[32m664.8/664.8 MB\u001b[0m \u001b[31m1.9 MB/s\u001b[0m eta \u001b[36m0:00:00\u001b[0m\n",
      "\u001b[2K   \u001b[90m━━━━━━━━━━━━━━━━━━━━━━━━━━━━━━━━━━━━━━━━\u001b[0m \u001b[32m211.5/211.5 MB\u001b[0m \u001b[31m6.0 MB/s\u001b[0m eta \u001b[36m0:00:00\u001b[0m\n",
      "\u001b[2K   \u001b[90m━━━━━━━━━━━━━━━━━━━━━━━━━━━━━━━━━━━━━━━━\u001b[0m \u001b[32m56.3/56.3 MB\u001b[0m \u001b[31m18.1 MB/s\u001b[0m eta \u001b[36m0:00:00\u001b[0m\n",
      "\u001b[2K   \u001b[90m━━━━━━━━━━━━━━━━━━━━━━━━━━━━━━━━━━━━━━━━\u001b[0m \u001b[32m127.9/127.9 MB\u001b[0m \u001b[31m7.8 MB/s\u001b[0m eta \u001b[36m0:00:00\u001b[0m\n",
      "\u001b[2K   \u001b[90m━━━━━━━━━━━━━━━━━━━━━━━━━━━━━━━━━━━━━━━━\u001b[0m \u001b[32m207.5/207.5 MB\u001b[0m \u001b[31m6.3 MB/s\u001b[0m eta \u001b[36m0:00:00\u001b[0m\n",
      "\u001b[2K   \u001b[90m━━━━━━━━━━━━━━━━━━━━━━━━━━━━━━━━━━━━━━━━\u001b[0m \u001b[32m21.1/21.1 MB\u001b[0m \u001b[31m81.3 MB/s\u001b[0m eta \u001b[36m0:00:00\u001b[0m\n",
      "\u001b[?25h"
     ]
    }
   ],
   "source": [
    "!pip install gensim spacy --quiet\n",
    "!python -m spacy download pt_core_news_sm --quiet\n",
    "!pip install torch --quiet"
   ]
  },
  {
   "cell_type": "markdown",
   "metadata": {
    "id": "gT0hhOT3AiKe"
   },
   "source": [
    "⚠️ É necessário reiniciar o ambiente antes de rodar a importação das bibliotecas!"
   ]
  },
  {
   "cell_type": "code",
   "execution_count": 20,
   "metadata": {
    "executionInfo": {
     "elapsed": 23,
     "status": "ok",
     "timestamp": 1743469226564,
     "user": {
      "displayName": "Luiz Henrique Oliveira",
      "userId": "01652462041432361084"
     },
     "user_tz": 180
    },
    "id": "n3HsXdQY3qE9"
   },
   "outputs": [],
   "source": [
    "# Data Science\n",
    "import numpy as np\n",
    "import pandas as pd\n",
    "import re\n",
    "import string\n",
    "import joblib\n",
    "from pathlib import Path\n",
    "import zipfile\n",
    "from sklearn.pipeline import Pipeline\n",
    "\n",
    "\n",
    "# NLP\n",
    "import nltk\n",
    "import spacy\n",
    "from gensim.models import KeyedVectors\n",
    "from nltk.tokenize import word_tokenize\n",
    "\n",
    "# Machine Learning\n",
    "from sklearn.svm import SVC\n",
    "from sklearn.metrics import (classification_report, f1_score)\n",
    "from sklearn.model_selection import train_test_split\n",
    "import torch\n",
    "from sklearn import preprocessing\n",
    "from sklearn.model_selection import GridSearchCV\n",
    "from sklearn.metrics import classification_report, f1_score\n",
    "\n",
    "# NLTK\n",
    "nltk.download('punkt')\n",
    "nltk.download('stopwords')\n",
    "nltk.download('punkt_tab')"
   ]
  },
  {
   "cell_type": "code",
   "execution_count": 6,
   "metadata": {
    "colab": {
     "base_uri": "https://localhost:8080/"
    },
    "executionInfo": {
     "elapsed": 31368,
     "status": "ok",
     "timestamp": 1743465795245,
     "user": {
      "displayName": "Luiz Henrique Oliveira",
      "userId": "01652462041432361084"
     },
     "user_tz": 180
    },
    "id": "TA5TsL_ylU0a",
    "outputId": "cec068df-6fa1-4a3e-fb81-d4d060b1ff9c"
   },
   "outputs": [
    {
     "name": "stdout",
     "output_type": "stream",
     "text": [
      "Arquivo skip_s300.zip já existe.\n",
      "Arquivos extraídos.\n"
     ]
    }
   ],
   "source": [
    "# Cria diretório model, faz o download e unzip do skip-gram com 300 dimensões\n",
    "\n",
    "model_dir = Path(\"data-science-projects/nlp/model\")\n",
    "model_dir.mkdir(parents=True, exist_ok=True)\n",
    "zip_file = \"skip_s300.zip\"\n",
    "file_path = model_dir / zip_file\n",
    "\n",
    "\n",
    "if not file_path.exists():\n",
    "    !wget 'https://dados-ml-pln.s3-sa-east-1.amazonaws.com/skip_s300.zip' -O {file_path}\n",
    "else:\n",
    "    print(f\"Arquivo {zip_file} já existe.\")\n",
    "\n",
    "if file_path.exists():\n",
    "    with zipfile.ZipFile(file_path, 'r') as zip_ref:\n",
    "        zip_ref.extractall(model_dir)\n",
    "    print(f\"Arquivos extraídos.\")\n",
    "else:\n",
    "    print(f\"Erro: {zip_file} não encontrado.\")"
   ]
  },
  {
   "cell_type": "markdown",
   "metadata": {
    "id": "lOaKvCFL-ap8"
   },
   "source": [
    "#### **Importação da Base**"
   ]
  },
  {
   "cell_type": "code",
   "execution_count": 7,
   "metadata": {
    "executionInfo": {
     "elapsed": 724,
     "status": "ok",
     "timestamp": 1743465795968,
     "user": {
      "displayName": "Luiz Henrique Oliveira",
      "userId": "01652462041432361084"
     },
     "user_tz": 180
    },
    "id": "VFA-CYfawkEJ"
   },
   "outputs": [],
   "source": [
    "df = pd.read_csv('/content/data-science-projects/nlp/data/tickets_reclamacoes_classificados.csv', delimiter=';')"
   ]
  },
  {
   "cell_type": "markdown",
   "metadata": {
    "id": "Z19t9ahn-x6r"
   },
   "source": [
    "#### **Pré-processamento e Normalização**"
   ]
  },
  {
   "cell_type": "code",
   "execution_count": 8,
   "metadata": {
    "executionInfo": {
     "elapsed": 20,
     "status": "ok",
     "timestamp": 1743465923316,
     "user": {
      "displayName": "Luiz Henrique Oliveira",
      "userId": "01652462041432361084"
     },
     "user_tz": 180
    },
    "id": "Y_s40O-M-5RT"
   },
   "outputs": [],
   "source": [
    "# Define seed e tamanho de conjunto de teste\n",
    "seed = 42\n",
    "test_size = 0.25"
   ]
  },
  {
   "cell_type": "code",
   "execution_count": 9,
   "metadata": {
    "colab": {
     "base_uri": "https://localhost:8080/"
    },
    "executionInfo": {
     "elapsed": 60,
     "status": "ok",
     "timestamp": 1743465925559,
     "user": {
      "displayName": "Luiz Henrique Oliveira",
      "userId": "01652462041432361084"
     },
     "user_tz": 180
    },
    "id": "wv_mPw8W-946",
    "outputId": "81c3acb5-de80-4211-ec99-6e2433f46aff"
   },
   "outputs": [
    {
     "name": "stdout",
     "output_type": "stream",
     "text": [
      "Rodando em: cpu\n"
     ]
    }
   ],
   "source": [
    "# Define se o código vai rodar na GPU (se disponível) ou na CPU\n",
    "device = torch.device(\"cuda\" if torch.cuda.is_available() else \"cpu\")\n",
    "print(f\"Rodando em: {device}\")\n",
    "\n",
    "# Carrega a lista de stopwords em português\n",
    "stopwords_list = nltk.corpus.stopwords.words('portuguese')\n",
    "\n",
    "# Lista de nomes de instituições encontradas na EDA\n",
    "institution_names = ['chase', 'bank', 'jp', 'gm', 'financial', 'jpmcb']\n",
    "\n",
    "# Cria uma cópia do dataframe com apenas as colunas relevantes\n",
    "df_model = df[['categoria', 'descricao_reclamacao']].copy()\n",
    "\n",
    "# Divide o dataset em treino e teste\n",
    "df_train, df_test = train_test_split(df_model, test_size=test_size, random_state=seed)\n",
    "\n",
    "# Converte as categorias em valores numéricos\n",
    "label_encoder = preprocessing.LabelEncoder()\n",
    "df_train['categoria'] = label_encoder.fit_transform(df_train['categoria'])\n",
    "df_test['categoria'] = label_encoder.transform(df_test['categoria'])"
   ]
  },
  {
   "cell_type": "code",
   "execution_count": 10,
   "metadata": {
    "executionInfo": {
     "elapsed": 22,
     "status": "ok",
     "timestamp": 1743465929750,
     "user": {
      "displayName": "Luiz Henrique Oliveira",
      "userId": "01652462041432361084"
     },
     "user_tz": 180
    },
    "id": "_oEAR4N5_GKH"
   },
   "outputs": [],
   "source": [
    "# Remove pontuação de um texto\n",
    "def remove_punctuation(text):\n",
    "    return text.translate(str.maketrans('', '', string.punctuation))\n",
    "\n",
    "# Normaliza o texto\n",
    "def normalize_text(text, replace_institutions=False):\n",
    "    text = text.lower()\n",
    "    text = re.sub(r'[\\r\\n]+', ' ', text)\n",
    "    text = re.sub(r'\\d+|/', '', text)\n",
    "    text = re.sub(r'\\bx\\b|\\w*xx+\\w*', '', text)\n",
    "    text = remove_punctuation(text)\n",
    "    text = re.sub(r'\\s+', ' ', text)\n",
    "    text = text.strip()\n",
    "\n",
    "    for institution in institution_names:\n",
    "            text = re.sub(r'\\b' + re.escape(institution) + r'\\b', '', text)\n",
    "\n",
    "    return text\n",
    "\n",
    "# Normaliza e tokeniza o texto\n",
    "def norm_tokenize(text):\n",
    "    text = normalize_text(text, replace_institutions=False)\n",
    "    tokens = word_tokenize(text)\n",
    "    text = [x for x in tokens if x not in stopwords_list]\n",
    "    return [y for y in text if len(y) > 2]\n",
    "\n",
    "# Lematiza os tokens usando spacy\n",
    "def lemmatize_tokens(tokens, pos=\"VERB\"):\n",
    "    doc = nlp(\" \".join(tokens))\n",
    "    return [token.lemma_ if token.pos_ == pos else token.text for token in doc]"
   ]
  },
  {
   "cell_type": "code",
   "execution_count": 11,
   "metadata": {
    "executionInfo": {
     "elapsed": 872,
     "status": "ok",
     "timestamp": 1743465934382,
     "user": {
      "displayName": "Luiz Henrique Oliveira",
      "userId": "01652462041432361084"
     },
     "user_tz": 180
    },
    "id": "mVigdvJo_PCZ"
   },
   "outputs": [],
   "source": [
    "# Carrega o modelo de NLP do spacy para português\n",
    "nlp = spacy.load(\"pt_core_news_sm\")\n",
    "\n",
    "# Se estiver rodando na GPU roda o spacy com GPU\n",
    "if device.type == \"cuda\":\n",
    "    spacy.require_gpu()"
   ]
  },
  {
   "cell_type": "code",
   "execution_count": 12,
   "metadata": {
    "executionInfo": {
     "elapsed": 547585,
     "status": "ok",
     "timestamp": 1743466481998,
     "user": {
      "displayName": "Luiz Henrique Oliveira",
      "userId": "01652462041432361084"
     },
     "user_tz": 180
    },
    "id": "qEkXZn-9_Plk"
   },
   "outputs": [],
   "source": [
    "# Aplica a tokenização e remove stopwords\n",
    "df_train['tokens'] = df_train['descricao_reclamacao'].apply(norm_tokenize)\n",
    "df_test['tokens'] = df_test['descricao_reclamacao'].apply(norm_tokenize)\n",
    "\n",
    "# Lematiza os tokens de verbos\n",
    "df_train['tokens'] = df_train['tokens'].apply(lambda tokens: lemmatize_tokens(tokens, pos=\"VERB\"))\n",
    "df_test['tokens'] = df_test['tokens'].apply(lambda tokens: lemmatize_tokens(tokens, pos=\"VERB\"))"
   ]
  },
  {
   "cell_type": "markdown",
   "metadata": {
    "id": "hOOe1elx_a04"
   },
   "source": [
    "#### **Embedding**"
   ]
  },
  {
   "cell_type": "code",
   "execution_count": 14,
   "metadata": {
    "executionInfo": {
     "elapsed": 266238,
     "status": "ok",
     "timestamp": 1743467747350,
     "user": {
      "displayName": "Luiz Henrique Oliveira",
      "userId": "01652462041432361084"
     },
     "user_tz": 180
    },
    "id": "EwUF823m_b8u"
   },
   "outputs": [],
   "source": [
    "# Carrega os vetores Word2Vec pré-treinados com 300 dimensões\n",
    "model_skip = KeyedVectors.load_word2vec_format('/content/data-science-projects/nlp/model/skip_s300.txt')"
   ]
  },
  {
   "cell_type": "code",
   "execution_count": 15,
   "metadata": {
    "executionInfo": {
     "elapsed": 11,
     "status": "ok",
     "timestamp": 1743467747355,
     "user": {
      "displayName": "Luiz Henrique Oliveira",
      "userId": "01652462041432361084"
     },
     "user_tz": 180
    },
    "id": "UTFqJUJu_fYS"
   },
   "outputs": [],
   "source": [
    "# Calcula o vetor médio de uma lista de tokens usando o modelo Word2Vec\n",
    "def average_vector(words):\n",
    "    vectors = [model_skip[word] for word in words if word in model_skip]\n",
    "\n",
    "    if vectors:\n",
    "        return sum(vectors) / len(vectors)\n",
    "    else:\n",
    "        return np.zeros(model_skip.vector_size)"
   ]
  },
  {
   "cell_type": "code",
   "execution_count": 16,
   "metadata": {
    "executionInfo": {
     "elapsed": 7560,
     "status": "ok",
     "timestamp": 1743467754908,
     "user": {
      "displayName": "Luiz Henrique Oliveira",
      "userId": "01652462041432361084"
     },
     "user_tz": 180
    },
    "id": "xKyi9rep_oCR"
   },
   "outputs": [],
   "source": [
    "# Converte os tokens em vetores médios usando Word2Vec para treino e teste\n",
    "X_train = df_train['tokens'].apply(average_vector).tolist()\n",
    "X_test = df_test['tokens'].apply(average_vector).tolist()\n",
    "\n",
    "# Cria y de treino e teste\n",
    "y_test = df_test['categoria']\n",
    "y_train = df_train['categoria']"
   ]
  },
  {
   "cell_type": "markdown",
   "metadata": {
    "id": "BHuKMmHD_zL3"
   },
   "source": [
    "#### **Treinamento e Teste**\n",
    "\n",
    "Apesar da busca por parâmetros do SVC ainda demandar recursos computacionais significativos, ela é consideravelmente mais eficiente em comparação ao fine-tuning do BERT."
   ]
  },
  {
   "cell_type": "code",
   "execution_count": 22,
   "metadata": {
    "colab": {
     "base_uri": "https://localhost:8080/"
    },
    "executionInfo": {
     "elapsed": 777973,
     "status": "ok",
     "timestamp": 1743472052746,
     "user": {
      "displayName": "Luiz Henrique Oliveira",
      "userId": "01652462041432361084"
     },
     "user_tz": 180
    },
    "id": "nUsFWUmB3C2Z",
    "outputId": "3f106028-f753-448a-ed53-c7e5b44f01ee"
   },
   "outputs": [
    {
     "name": "stdout",
     "output_type": "stream",
     "text": [
      "Fitting 3 folds for each of 8 candidates, totalling 24 fits\n",
      "\n",
      "Melhores parâmetros encontrados:\n",
      "{'svc__C': 1, 'svc__class_weight': None, 'svc__kernel': 'rbf'}\n",
      "\n",
      "Classification Report:\n",
      "              precision    recall  f1-score   support\n",
      "\n",
      "           0       0.87      0.88      0.87      1290\n",
      "           1       0.85      0.87      0.86       922\n",
      "           2       0.85      0.78      0.81       549\n",
      "           3       0.83      0.81      0.82      1204\n",
      "           4       0.87      0.89      0.88      1303\n",
      "\n",
      "    accuracy                           0.85      5268\n",
      "   macro avg       0.85      0.84      0.85      5268\n",
      "weighted avg       0.85      0.85      0.85      5268\n",
      "\n",
      "F1 Score: 0.8519338635982009\n"
     ]
    }
   ],
   "source": [
    "pipeline = Pipeline([\n",
    "    ('svc', SVC(random_state=seed))])\n",
    "\n",
    "param_grid = {\n",
    "    'svc__kernel': ['linear', 'rbf'],\n",
    "    'svc__C': [0.1, 1],\n",
    "    'svc__class_weight': [None, 'balanced']\n",
    "}\n",
    "\n",
    "grid_search = GridSearchCV(\n",
    "    estimator=pipeline,\n",
    "    param_grid=param_grid,\n",
    "    scoring='f1_weighted',\n",
    "    cv=3,\n",
    "    n_jobs=-1,\n",
    "    verbose=1\n",
    ")\n",
    "\n",
    "grid_search.fit(X_train, y_train)\n",
    "\n",
    "best_model = grid_search.best_estimator_\n",
    "\n",
    "y_pred = best_model.predict(X_test)\n",
    "print('\\nMelhores parâmetros encontrados:')\n",
    "print(grid_search.best_params_)\n",
    "print('\\nClassification Report:')\n",
    "print(classification_report(y_test, y_pred))\n",
    "print(\"F1 Score:\", f1_score(y_test, y_pred, average=\"weighted\"))\n"
   ]
  },
  {
   "cell_type": "markdown",
   "metadata": {
    "id": "WE0xWRVsBbJF"
   },
   "source": [
    "#### **Salvando .pkl do melhor modelo**"
   ]
  },
  {
   "cell_type": "code",
   "execution_count": 23,
   "metadata": {
    "colab": {
     "base_uri": "https://localhost:8080/"
    },
    "executionInfo": {
     "elapsed": 90,
     "status": "ok",
     "timestamp": 1743472106394,
     "user": {
      "displayName": "Luiz Henrique Oliveira",
      "userId": "01652462041432361084"
     },
     "user_tz": 180
    },
    "id": "gxjjhjAkBfrr",
    "outputId": "3a080e7f-bcb7-400f-ba47-f35831ffabd7"
   },
   "outputs": [
    {
     "name": "stdout",
     "output_type": "stream",
     "text": [
      "Modelo salvo!\n"
     ]
    }
   ],
   "source": [
    "# Salva o .pkl do modelo campeão\n",
    "model_dir = Path(\"/content/data-science-projects/nlp/best-model\")\n",
    "model_path = model_dir / \"modelo_skipgram_svc.pkl\"\n",
    "\n",
    "model_dir.mkdir(parents=True, exist_ok=True)\n",
    "\n",
    "try:\n",
    "    joblib.dump(best_model, model_path)\n",
    "    print(\"Modelo salvo!\")\n",
    "except Exception as e:\n",
    "    print(\"Erro ao salvar o modelo.\")"
   ]
  }
 ],
 "metadata": {
  "colab": {
   "collapsed_sections": [
    "7xw6WhaNo4k3",
    "8XUqamdstrZC",
    "wzMDfMzGQewo",
    "wnxZ0DdHtb3Z",
    "pSIGfJJM2Kn2"
   ],
   "provenance": [],
   "toc_visible": true
  },
  "kernelspec": {
   "display_name": "Python 3",
   "name": "python3"
  }
 },
 "nbformat": 4,
 "nbformat_minor": 0
}
